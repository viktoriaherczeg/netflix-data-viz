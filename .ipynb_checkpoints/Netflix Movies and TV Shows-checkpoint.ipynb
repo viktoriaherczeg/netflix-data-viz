{
 "cells": [
  {
   "cell_type": "markdown",
   "id": "isolated-closing",
   "metadata": {},
   "source": [
    "# Netflix Movies and TV Shows\n",
    "\n"
   ]
  },
  {
   "cell_type": "markdown",
   "id": "devoted-recovery",
   "metadata": {},
   "source": [
    "# Netflix Movies and TV Shows\n",
    "\n",
    "Data source: https://www.kaggle.com/shivamb/netflix-shows"
   ]
  },
  {
   "cell_type": "markdown",
   "id": "established-instruction",
   "metadata": {},
   "source": [
    "### Imports"
   ]
  },
  {
   "cell_type": "code",
   "execution_count": 42,
   "id": "careful-louisville",
   "metadata": {},
   "outputs": [],
   "source": [
    "import pandas as pd\n",
    "import matplotlib.pyplot as plt\n",
    "import seaborn as sns\n",
    "import plotly.express as px"
   ]
  },
  {
   "cell_type": "markdown",
   "id": "renewable-wallpaper",
   "metadata": {},
   "source": [
    "## Preliminary Data Exploration"
   ]
  },
  {
   "cell_type": "code",
   "execution_count": 34,
   "id": "opened-option",
   "metadata": {},
   "outputs": [],
   "source": [
    "netflix_df = pd.read_csv(\"netflix_titles.csv\")"
   ]
  },
  {
   "cell_type": "code",
   "execution_count": 4,
   "id": "abroad-seeking",
   "metadata": {},
   "outputs": [
    {
     "name": "stdout",
     "output_type": "stream",
     "text": [
      "(7787, 12)\n"
     ]
    },
    {
     "data": {
      "text/html": [
       "<div>\n",
       "<style scoped>\n",
       "    .dataframe tbody tr th:only-of-type {\n",
       "        vertical-align: middle;\n",
       "    }\n",
       "\n",
       "    .dataframe tbody tr th {\n",
       "        vertical-align: top;\n",
       "    }\n",
       "\n",
       "    .dataframe thead th {\n",
       "        text-align: right;\n",
       "    }\n",
       "</style>\n",
       "<table border=\"1\" class=\"dataframe\">\n",
       "  <thead>\n",
       "    <tr style=\"text-align: right;\">\n",
       "      <th></th>\n",
       "      <th>show_id</th>\n",
       "      <th>type</th>\n",
       "      <th>title</th>\n",
       "      <th>director</th>\n",
       "      <th>cast</th>\n",
       "      <th>country</th>\n",
       "      <th>date_added</th>\n",
       "      <th>release_year</th>\n",
       "      <th>rating</th>\n",
       "      <th>duration</th>\n",
       "      <th>listed_in</th>\n",
       "      <th>description</th>\n",
       "    </tr>\n",
       "  </thead>\n",
       "  <tbody>\n",
       "    <tr>\n",
       "      <th>0</th>\n",
       "      <td>s1</td>\n",
       "      <td>TV Show</td>\n",
       "      <td>3%</td>\n",
       "      <td>NaN</td>\n",
       "      <td>João Miguel, Bianca Comparato, Michel Gomes, R...</td>\n",
       "      <td>Brazil</td>\n",
       "      <td>August 14, 2020</td>\n",
       "      <td>2020</td>\n",
       "      <td>TV-MA</td>\n",
       "      <td>4 Seasons</td>\n",
       "      <td>International TV Shows, TV Dramas, TV Sci-Fi &amp;...</td>\n",
       "      <td>In a future where the elite inhabit an island ...</td>\n",
       "    </tr>\n",
       "    <tr>\n",
       "      <th>1</th>\n",
       "      <td>s2</td>\n",
       "      <td>Movie</td>\n",
       "      <td>7:19</td>\n",
       "      <td>Jorge Michel Grau</td>\n",
       "      <td>Demián Bichir, Héctor Bonilla, Oscar Serrano, ...</td>\n",
       "      <td>Mexico</td>\n",
       "      <td>December 23, 2016</td>\n",
       "      <td>2016</td>\n",
       "      <td>TV-MA</td>\n",
       "      <td>93 min</td>\n",
       "      <td>Dramas, International Movies</td>\n",
       "      <td>After a devastating earthquake hits Mexico Cit...</td>\n",
       "    </tr>\n",
       "    <tr>\n",
       "      <th>2</th>\n",
       "      <td>s3</td>\n",
       "      <td>Movie</td>\n",
       "      <td>23:59</td>\n",
       "      <td>Gilbert Chan</td>\n",
       "      <td>Tedd Chan, Stella Chung, Henley Hii, Lawrence ...</td>\n",
       "      <td>Singapore</td>\n",
       "      <td>December 20, 2018</td>\n",
       "      <td>2011</td>\n",
       "      <td>R</td>\n",
       "      <td>78 min</td>\n",
       "      <td>Horror Movies, International Movies</td>\n",
       "      <td>When an army recruit is found dead, his fellow...</td>\n",
       "    </tr>\n",
       "    <tr>\n",
       "      <th>3</th>\n",
       "      <td>s4</td>\n",
       "      <td>Movie</td>\n",
       "      <td>9</td>\n",
       "      <td>Shane Acker</td>\n",
       "      <td>Elijah Wood, John C. Reilly, Jennifer Connelly...</td>\n",
       "      <td>United States</td>\n",
       "      <td>November 16, 2017</td>\n",
       "      <td>2009</td>\n",
       "      <td>PG-13</td>\n",
       "      <td>80 min</td>\n",
       "      <td>Action &amp; Adventure, Independent Movies, Sci-Fi...</td>\n",
       "      <td>In a postapocalyptic world, rag-doll robots hi...</td>\n",
       "    </tr>\n",
       "    <tr>\n",
       "      <th>4</th>\n",
       "      <td>s5</td>\n",
       "      <td>Movie</td>\n",
       "      <td>21</td>\n",
       "      <td>Robert Luketic</td>\n",
       "      <td>Jim Sturgess, Kevin Spacey, Kate Bosworth, Aar...</td>\n",
       "      <td>United States</td>\n",
       "      <td>January 1, 2020</td>\n",
       "      <td>2008</td>\n",
       "      <td>PG-13</td>\n",
       "      <td>123 min</td>\n",
       "      <td>Dramas</td>\n",
       "      <td>A brilliant group of students become card-coun...</td>\n",
       "    </tr>\n",
       "  </tbody>\n",
       "</table>\n",
       "</div>"
      ],
      "text/plain": [
       "  show_id     type  title           director  \\\n",
       "0      s1  TV Show     3%                NaN   \n",
       "1      s2    Movie   7:19  Jorge Michel Grau   \n",
       "2      s3    Movie  23:59       Gilbert Chan   \n",
       "3      s4    Movie      9        Shane Acker   \n",
       "4      s5    Movie     21     Robert Luketic   \n",
       "\n",
       "                                                cast        country  \\\n",
       "0  João Miguel, Bianca Comparato, Michel Gomes, R...         Brazil   \n",
       "1  Demián Bichir, Héctor Bonilla, Oscar Serrano, ...         Mexico   \n",
       "2  Tedd Chan, Stella Chung, Henley Hii, Lawrence ...      Singapore   \n",
       "3  Elijah Wood, John C. Reilly, Jennifer Connelly...  United States   \n",
       "4  Jim Sturgess, Kevin Spacey, Kate Bosworth, Aar...  United States   \n",
       "\n",
       "          date_added  release_year rating   duration  \\\n",
       "0    August 14, 2020          2020  TV-MA  4 Seasons   \n",
       "1  December 23, 2016          2016  TV-MA     93 min   \n",
       "2  December 20, 2018          2011      R     78 min   \n",
       "3  November 16, 2017          2009  PG-13     80 min   \n",
       "4    January 1, 2020          2008  PG-13    123 min   \n",
       "\n",
       "                                           listed_in  \\\n",
       "0  International TV Shows, TV Dramas, TV Sci-Fi &...   \n",
       "1                       Dramas, International Movies   \n",
       "2                Horror Movies, International Movies   \n",
       "3  Action & Adventure, Independent Movies, Sci-Fi...   \n",
       "4                                             Dramas   \n",
       "\n",
       "                                         description  \n",
       "0  In a future where the elite inhabit an island ...  \n",
       "1  After a devastating earthquake hits Mexico Cit...  \n",
       "2  When an army recruit is found dead, his fellow...  \n",
       "3  In a postapocalyptic world, rag-doll robots hi...  \n",
       "4  A brilliant group of students become card-coun...  "
      ]
     },
     "execution_count": 4,
     "metadata": {},
     "output_type": "execute_result"
    }
   ],
   "source": [
    "print(netflix_df.shape)\n",
    "netflix_df.head()"
   ]
  },
  {
   "cell_type": "code",
   "execution_count": 6,
   "id": "identified-compound",
   "metadata": {},
   "outputs": [
    {
     "data": {
      "text/html": [
       "<div>\n",
       "<style scoped>\n",
       "    .dataframe tbody tr th:only-of-type {\n",
       "        vertical-align: middle;\n",
       "    }\n",
       "\n",
       "    .dataframe tbody tr th {\n",
       "        vertical-align: top;\n",
       "    }\n",
       "\n",
       "    .dataframe thead th {\n",
       "        text-align: right;\n",
       "    }\n",
       "</style>\n",
       "<table border=\"1\" class=\"dataframe\">\n",
       "  <thead>\n",
       "    <tr style=\"text-align: right;\">\n",
       "      <th></th>\n",
       "      <th>show_id</th>\n",
       "      <th>type</th>\n",
       "      <th>title</th>\n",
       "      <th>director</th>\n",
       "      <th>cast</th>\n",
       "      <th>country</th>\n",
       "      <th>date_added</th>\n",
       "      <th>release_year</th>\n",
       "      <th>rating</th>\n",
       "      <th>duration</th>\n",
       "      <th>listed_in</th>\n",
       "      <th>description</th>\n",
       "    </tr>\n",
       "  </thead>\n",
       "  <tbody>\n",
       "    <tr>\n",
       "      <th>7782</th>\n",
       "      <td>s7783</td>\n",
       "      <td>Movie</td>\n",
       "      <td>Zozo</td>\n",
       "      <td>Josef Fares</td>\n",
       "      <td>Imad Creidi, Antoinette Turk, Elias Gergi, Car...</td>\n",
       "      <td>Sweden, Czech Republic, United Kingdom, Denmar...</td>\n",
       "      <td>October 19, 2020</td>\n",
       "      <td>2005</td>\n",
       "      <td>TV-MA</td>\n",
       "      <td>99 min</td>\n",
       "      <td>Dramas, International Movies</td>\n",
       "      <td>When Lebanon's Civil War deprives Zozo of his ...</td>\n",
       "    </tr>\n",
       "    <tr>\n",
       "      <th>7783</th>\n",
       "      <td>s7784</td>\n",
       "      <td>Movie</td>\n",
       "      <td>Zubaan</td>\n",
       "      <td>Mozez Singh</td>\n",
       "      <td>Vicky Kaushal, Sarah-Jane Dias, Raaghav Chanan...</td>\n",
       "      <td>India</td>\n",
       "      <td>March 2, 2019</td>\n",
       "      <td>2015</td>\n",
       "      <td>TV-14</td>\n",
       "      <td>111 min</td>\n",
       "      <td>Dramas, International Movies, Music &amp; Musicals</td>\n",
       "      <td>A scrappy but poor boy worms his way into a ty...</td>\n",
       "    </tr>\n",
       "    <tr>\n",
       "      <th>7784</th>\n",
       "      <td>s7785</td>\n",
       "      <td>Movie</td>\n",
       "      <td>Zulu Man in Japan</td>\n",
       "      <td>NaN</td>\n",
       "      <td>Nasty C</td>\n",
       "      <td>NaN</td>\n",
       "      <td>September 25, 2020</td>\n",
       "      <td>2019</td>\n",
       "      <td>TV-MA</td>\n",
       "      <td>44 min</td>\n",
       "      <td>Documentaries, International Movies, Music &amp; M...</td>\n",
       "      <td>In this documentary, South African rapper Nast...</td>\n",
       "    </tr>\n",
       "    <tr>\n",
       "      <th>7785</th>\n",
       "      <td>s7786</td>\n",
       "      <td>TV Show</td>\n",
       "      <td>Zumbo's Just Desserts</td>\n",
       "      <td>NaN</td>\n",
       "      <td>Adriano Zumbo, Rachel Khoo</td>\n",
       "      <td>Australia</td>\n",
       "      <td>October 31, 2020</td>\n",
       "      <td>2019</td>\n",
       "      <td>TV-PG</td>\n",
       "      <td>1 Season</td>\n",
       "      <td>International TV Shows, Reality TV</td>\n",
       "      <td>Dessert wizard Adriano Zumbo looks for the nex...</td>\n",
       "    </tr>\n",
       "    <tr>\n",
       "      <th>7786</th>\n",
       "      <td>s7787</td>\n",
       "      <td>Movie</td>\n",
       "      <td>ZZ TOP: THAT LITTLE OL' BAND FROM TEXAS</td>\n",
       "      <td>Sam Dunn</td>\n",
       "      <td>NaN</td>\n",
       "      <td>United Kingdom, Canada, United States</td>\n",
       "      <td>March 1, 2020</td>\n",
       "      <td>2019</td>\n",
       "      <td>TV-MA</td>\n",
       "      <td>90 min</td>\n",
       "      <td>Documentaries, Music &amp; Musicals</td>\n",
       "      <td>This documentary delves into the mystique behi...</td>\n",
       "    </tr>\n",
       "  </tbody>\n",
       "</table>\n",
       "</div>"
      ],
      "text/plain": [
       "     show_id     type                                    title     director  \\\n",
       "7782   s7783    Movie                                     Zozo  Josef Fares   \n",
       "7783   s7784    Movie                                   Zubaan  Mozez Singh   \n",
       "7784   s7785    Movie                        Zulu Man in Japan          NaN   \n",
       "7785   s7786  TV Show                    Zumbo's Just Desserts          NaN   \n",
       "7786   s7787    Movie  ZZ TOP: THAT LITTLE OL' BAND FROM TEXAS     Sam Dunn   \n",
       "\n",
       "                                                   cast  \\\n",
       "7782  Imad Creidi, Antoinette Turk, Elias Gergi, Car...   \n",
       "7783  Vicky Kaushal, Sarah-Jane Dias, Raaghav Chanan...   \n",
       "7784                                            Nasty C   \n",
       "7785                         Adriano Zumbo, Rachel Khoo   \n",
       "7786                                                NaN   \n",
       "\n",
       "                                                country          date_added  \\\n",
       "7782  Sweden, Czech Republic, United Kingdom, Denmar...    October 19, 2020   \n",
       "7783                                              India       March 2, 2019   \n",
       "7784                                                NaN  September 25, 2020   \n",
       "7785                                          Australia    October 31, 2020   \n",
       "7786              United Kingdom, Canada, United States       March 1, 2020   \n",
       "\n",
       "      release_year rating  duration  \\\n",
       "7782          2005  TV-MA    99 min   \n",
       "7783          2015  TV-14   111 min   \n",
       "7784          2019  TV-MA    44 min   \n",
       "7785          2019  TV-PG  1 Season   \n",
       "7786          2019  TV-MA    90 min   \n",
       "\n",
       "                                              listed_in  \\\n",
       "7782                       Dramas, International Movies   \n",
       "7783     Dramas, International Movies, Music & Musicals   \n",
       "7784  Documentaries, International Movies, Music & M...   \n",
       "7785                 International TV Shows, Reality TV   \n",
       "7786                    Documentaries, Music & Musicals   \n",
       "\n",
       "                                            description  \n",
       "7782  When Lebanon's Civil War deprives Zozo of his ...  \n",
       "7783  A scrappy but poor boy worms his way into a ty...  \n",
       "7784  In this documentary, South African rapper Nast...  \n",
       "7785  Dessert wizard Adriano Zumbo looks for the nex...  \n",
       "7786  This documentary delves into the mystique behi...  "
      ]
     },
     "execution_count": 6,
     "metadata": {},
     "output_type": "execute_result"
    }
   ],
   "source": [
    "netflix_df.tail()"
   ]
  },
  {
   "cell_type": "code",
   "execution_count": 8,
   "id": "japanese-logistics",
   "metadata": {},
   "outputs": [
    {
     "data": {
      "text/html": [
       "<div>\n",
       "<style scoped>\n",
       "    .dataframe tbody tr th:only-of-type {\n",
       "        vertical-align: middle;\n",
       "    }\n",
       "\n",
       "    .dataframe tbody tr th {\n",
       "        vertical-align: top;\n",
       "    }\n",
       "\n",
       "    .dataframe thead th {\n",
       "        text-align: right;\n",
       "    }\n",
       "</style>\n",
       "<table border=\"1\" class=\"dataframe\">\n",
       "  <thead>\n",
       "    <tr style=\"text-align: right;\">\n",
       "      <th></th>\n",
       "      <th>show_id</th>\n",
       "      <th>type</th>\n",
       "      <th>title</th>\n",
       "      <th>director</th>\n",
       "      <th>cast</th>\n",
       "      <th>country</th>\n",
       "      <th>date_added</th>\n",
       "      <th>release_year</th>\n",
       "      <th>rating</th>\n",
       "      <th>duration</th>\n",
       "      <th>listed_in</th>\n",
       "      <th>description</th>\n",
       "    </tr>\n",
       "  </thead>\n",
       "  <tbody>\n",
       "    <tr>\n",
       "      <th>4246</th>\n",
       "      <td>s4247</td>\n",
       "      <td>TV Show</td>\n",
       "      <td>Moving On</td>\n",
       "      <td>NaN</td>\n",
       "      <td>Irene Santiago, Gary Estrada, Ariel Rivera, Pa...</td>\n",
       "      <td>NaN</td>\n",
       "      <td>April 27, 2018</td>\n",
       "      <td>2016</td>\n",
       "      <td>TV-PG</td>\n",
       "      <td>1 Season</td>\n",
       "      <td>International TV Shows, TV Dramas</td>\n",
       "      <td>Family problems, relationship issues and profe...</td>\n",
       "    </tr>\n",
       "    <tr>\n",
       "      <th>3131</th>\n",
       "      <td>s3132</td>\n",
       "      <td>Movie</td>\n",
       "      <td>Jealousy and medicine</td>\n",
       "      <td>Janusz Majewski</td>\n",
       "      <td>Mariusz Dmochowski, Ewa Krzyżewska, Włodzimier...</td>\n",
       "      <td>Poland</td>\n",
       "      <td>October 1, 2019</td>\n",
       "      <td>1973</td>\n",
       "      <td>TV-MA</td>\n",
       "      <td>97 min</td>\n",
       "      <td>Dramas, International Movies, Romantic Movies</td>\n",
       "      <td>Tormented by mistrust, a businessman hires a c...</td>\n",
       "    </tr>\n",
       "    <tr>\n",
       "      <th>1600</th>\n",
       "      <td>s1601</td>\n",
       "      <td>TV Show</td>\n",
       "      <td>Daniel Sloss: Live Shows</td>\n",
       "      <td>NaN</td>\n",
       "      <td>Daniel Sloss</td>\n",
       "      <td>United States</td>\n",
       "      <td>September 11, 2018</td>\n",
       "      <td>2018</td>\n",
       "      <td>TV-MA</td>\n",
       "      <td>1 Season</td>\n",
       "      <td>Stand-Up Comedy &amp; Talk Shows, TV Comedies</td>\n",
       "      <td>Comedian Daniel Sloss is ready to find the fun...</td>\n",
       "    </tr>\n",
       "    <tr>\n",
       "      <th>2448</th>\n",
       "      <td>s2449</td>\n",
       "      <td>TV Show</td>\n",
       "      <td>Go! Live Your Way</td>\n",
       "      <td>NaN</td>\n",
       "      <td>Pilar Pascual, Renata Toscano, José Giménez Za...</td>\n",
       "      <td>Argentina</td>\n",
       "      <td>June 21, 2019</td>\n",
       "      <td>2019</td>\n",
       "      <td>TV-PG</td>\n",
       "      <td>2 Seasons</td>\n",
       "      <td>Kids' TV, Spanish-Language TV Shows, Teen TV S...</td>\n",
       "      <td>Charismatic Mía gets a scholarship to an elite...</td>\n",
       "    </tr>\n",
       "    <tr>\n",
       "      <th>6573</th>\n",
       "      <td>s6574</td>\n",
       "      <td>TV Show</td>\n",
       "      <td>The Last Word</td>\n",
       "      <td>NaN</td>\n",
       "      <td>Anke Engelke, Thorsten Merten, Nina Gummich, J...</td>\n",
       "      <td>Germany</td>\n",
       "      <td>September 17, 2020</td>\n",
       "      <td>2020</td>\n",
       "      <td>TV-MA</td>\n",
       "      <td>1 Season</td>\n",
       "      <td>International TV Shows, TV Comedies, TV Dramas</td>\n",
       "      <td>Suddenly a widow, a woman rekindles her thirst...</td>\n",
       "    </tr>\n",
       "  </tbody>\n",
       "</table>\n",
       "</div>"
      ],
      "text/plain": [
       "     show_id     type                     title         director  \\\n",
       "4246   s4247  TV Show                 Moving On              NaN   \n",
       "3131   s3132    Movie     Jealousy and medicine  Janusz Majewski   \n",
       "1600   s1601  TV Show  Daniel Sloss: Live Shows              NaN   \n",
       "2448   s2449  TV Show         Go! Live Your Way              NaN   \n",
       "6573   s6574  TV Show             The Last Word              NaN   \n",
       "\n",
       "                                                   cast        country  \\\n",
       "4246  Irene Santiago, Gary Estrada, Ariel Rivera, Pa...            NaN   \n",
       "3131  Mariusz Dmochowski, Ewa Krzyżewska, Włodzimier...         Poland   \n",
       "1600                                       Daniel Sloss  United States   \n",
       "2448  Pilar Pascual, Renata Toscano, José Giménez Za...      Argentina   \n",
       "6573  Anke Engelke, Thorsten Merten, Nina Gummich, J...        Germany   \n",
       "\n",
       "              date_added  release_year rating   duration  \\\n",
       "4246      April 27, 2018          2016  TV-PG   1 Season   \n",
       "3131     October 1, 2019          1973  TV-MA     97 min   \n",
       "1600  September 11, 2018          2018  TV-MA   1 Season   \n",
       "2448       June 21, 2019          2019  TV-PG  2 Seasons   \n",
       "6573  September 17, 2020          2020  TV-MA   1 Season   \n",
       "\n",
       "                                              listed_in  \\\n",
       "4246                  International TV Shows, TV Dramas   \n",
       "3131      Dramas, International Movies, Romantic Movies   \n",
       "1600          Stand-Up Comedy & Talk Shows, TV Comedies   \n",
       "2448  Kids' TV, Spanish-Language TV Shows, Teen TV S...   \n",
       "6573     International TV Shows, TV Comedies, TV Dramas   \n",
       "\n",
       "                                            description  \n",
       "4246  Family problems, relationship issues and profe...  \n",
       "3131  Tormented by mistrust, a businessman hires a c...  \n",
       "1600  Comedian Daniel Sloss is ready to find the fun...  \n",
       "2448  Charismatic Mía gets a scholarship to an elite...  \n",
       "6573  Suddenly a widow, a woman rekindles her thirst...  "
      ]
     },
     "execution_count": 8,
     "metadata": {},
     "output_type": "execute_result"
    }
   ],
   "source": [
    "netflix_df.sample(5)"
   ]
  },
  {
   "cell_type": "code",
   "execution_count": 9,
   "id": "optional-there",
   "metadata": {},
   "outputs": [
    {
     "data": {
      "text/html": [
       "<div>\n",
       "<style scoped>\n",
       "    .dataframe tbody tr th:only-of-type {\n",
       "        vertical-align: middle;\n",
       "    }\n",
       "\n",
       "    .dataframe tbody tr th {\n",
       "        vertical-align: top;\n",
       "    }\n",
       "\n",
       "    .dataframe thead th {\n",
       "        text-align: right;\n",
       "    }\n",
       "</style>\n",
       "<table border=\"1\" class=\"dataframe\">\n",
       "  <thead>\n",
       "    <tr style=\"text-align: right;\">\n",
       "      <th></th>\n",
       "      <th>release_year</th>\n",
       "    </tr>\n",
       "  </thead>\n",
       "  <tbody>\n",
       "    <tr>\n",
       "      <th>count</th>\n",
       "      <td>7787.000000</td>\n",
       "    </tr>\n",
       "    <tr>\n",
       "      <th>mean</th>\n",
       "      <td>2013.932580</td>\n",
       "    </tr>\n",
       "    <tr>\n",
       "      <th>std</th>\n",
       "      <td>8.757395</td>\n",
       "    </tr>\n",
       "    <tr>\n",
       "      <th>min</th>\n",
       "      <td>1925.000000</td>\n",
       "    </tr>\n",
       "    <tr>\n",
       "      <th>25%</th>\n",
       "      <td>2013.000000</td>\n",
       "    </tr>\n",
       "    <tr>\n",
       "      <th>50%</th>\n",
       "      <td>2017.000000</td>\n",
       "    </tr>\n",
       "    <tr>\n",
       "      <th>75%</th>\n",
       "      <td>2018.000000</td>\n",
       "    </tr>\n",
       "    <tr>\n",
       "      <th>max</th>\n",
       "      <td>2021.000000</td>\n",
       "    </tr>\n",
       "  </tbody>\n",
       "</table>\n",
       "</div>"
      ],
      "text/plain": [
       "       release_year\n",
       "count   7787.000000\n",
       "mean    2013.932580\n",
       "std        8.757395\n",
       "min     1925.000000\n",
       "25%     2013.000000\n",
       "50%     2017.000000\n",
       "75%     2018.000000\n",
       "max     2021.000000"
      ]
     },
     "execution_count": 9,
     "metadata": {},
     "output_type": "execute_result"
    }
   ],
   "source": [
    "netflix_df.describe()"
   ]
  },
  {
   "cell_type": "code",
   "execution_count": 10,
   "id": "sharp-messaging",
   "metadata": {},
   "outputs": [
    {
     "name": "stdout",
     "output_type": "stream",
     "text": [
      "<class 'pandas.core.frame.DataFrame'>\n",
      "RangeIndex: 7787 entries, 0 to 7786\n",
      "Data columns (total 12 columns):\n",
      " #   Column        Non-Null Count  Dtype \n",
      "---  ------        --------------  ----- \n",
      " 0   show_id       7787 non-null   object\n",
      " 1   type          7787 non-null   object\n",
      " 2   title         7787 non-null   object\n",
      " 3   director      5398 non-null   object\n",
      " 4   cast          7069 non-null   object\n",
      " 5   country       7280 non-null   object\n",
      " 6   date_added    7777 non-null   object\n",
      " 7   release_year  7787 non-null   int64 \n",
      " 8   rating        7780 non-null   object\n",
      " 9   duration      7787 non-null   object\n",
      " 10  listed_in     7787 non-null   object\n",
      " 11  description   7787 non-null   object\n",
      "dtypes: int64(1), object(11)\n",
      "memory usage: 395.5+ KB\n"
     ]
    }
   ],
   "source": [
    "netflix_df.info()"
   ]
  },
  {
   "cell_type": "markdown",
   "id": "political-wings",
   "metadata": {},
   "source": [
    "## Data Cleaning"
   ]
  },
  {
   "cell_type": "markdown",
   "id": "opening-minutes",
   "metadata": {},
   "source": [
    "### N/A values"
   ]
  },
  {
   "cell_type": "code",
   "execution_count": 35,
   "id": "convertible-montreal",
   "metadata": {},
   "outputs": [
    {
     "data": {
      "text/plain": [
       "show_id            0\n",
       "type               0\n",
       "title              0\n",
       "director        2389\n",
       "cast             718\n",
       "country          507\n",
       "date_added        10\n",
       "release_year       0\n",
       "rating             7\n",
       "duration           0\n",
       "listed_in          0\n",
       "description        0\n",
       "dtype: int64"
      ]
     },
     "execution_count": 35,
     "metadata": {},
     "output_type": "execute_result"
    }
   ],
   "source": [
    "netflix_df.isna().sum()"
   ]
  },
  {
   "cell_type": "markdown",
   "id": "polish-amplifier",
   "metadata": {},
   "source": [
    "There are many missing values in the director column, which I do not intend to use in my further analysis so I will remove it. I will drop the remaining lines with missing values."
   ]
  },
  {
   "cell_type": "code",
   "execution_count": 36,
   "id": "german-underwear",
   "metadata": {},
   "outputs": [
    {
     "data": {
      "text/plain": [
       "(6643, 11)"
      ]
     },
     "execution_count": 36,
     "metadata": {},
     "output_type": "execute_result"
    }
   ],
   "source": [
    "netflix_df.drop([\"director\"], axis=1, inplace=True)\n",
    "netflix_clean = netflix_df.dropna()\n",
    "netflix_clean.shape"
   ]
  },
  {
   "cell_type": "markdown",
   "id": "referenced-inquiry",
   "metadata": {},
   "source": [
    "### Duplicate values"
   ]
  },
  {
   "cell_type": "code",
   "execution_count": 37,
   "id": "comprehensive-survivor",
   "metadata": {},
   "outputs": [
    {
     "data": {
      "text/plain": [
       "False"
      ]
     },
     "execution_count": 37,
     "metadata": {},
     "output_type": "execute_result"
    }
   ],
   "source": [
    "netflix_clean.duplicated().values.any()"
   ]
  },
  {
   "cell_type": "markdown",
   "id": "cognitive-enemy",
   "metadata": {},
   "source": [
    "Luckily there are no duplicates in the dataset."
   ]
  },
  {
   "cell_type": "markdown",
   "id": "alert-batman",
   "metadata": {},
   "source": [
    "### Converting Data Types"
   ]
  },
  {
   "cell_type": "markdown",
   "id": "eligible-latest",
   "metadata": {},
   "source": [
    "I will convert the date added column to datetime (currently string)."
   ]
  },
  {
   "cell_type": "code",
   "execution_count": 38,
   "id": "stock-purchase",
   "metadata": {},
   "outputs": [
    {
     "name": "stdout",
     "output_type": "stream",
     "text": [
      "<class 'pandas.core.frame.DataFrame'>\n",
      "Int64Index: 6643 entries, 0 to 7785\n",
      "Data columns (total 11 columns):\n",
      " #   Column        Non-Null Count  Dtype         \n",
      "---  ------        --------------  -----         \n",
      " 0   show_id       6643 non-null   object        \n",
      " 1   type          6643 non-null   object        \n",
      " 2   title         6643 non-null   object        \n",
      " 3   cast          6643 non-null   object        \n",
      " 4   country       6643 non-null   object        \n",
      " 5   date_added    6643 non-null   datetime64[ns]\n",
      " 6   release_year  6643 non-null   int64         \n",
      " 7   rating        6643 non-null   object        \n",
      " 8   duration      6643 non-null   object        \n",
      " 9   listed_in     6643 non-null   object        \n",
      " 10  description   6643 non-null   object        \n",
      "dtypes: datetime64[ns](1), int64(1), object(9)\n",
      "memory usage: 389.2+ KB\n"
     ]
    },
    {
     "name": "stderr",
     "output_type": "stream",
     "text": [
      "c:\\users\\dell\\appdata\\local\\programs\\python\\python37-32\\lib\\site-packages\\pandas\\core\\generic.py:5489: SettingWithCopyWarning: \n",
      "A value is trying to be set on a copy of a slice from a DataFrame.\n",
      "Try using .loc[row_indexer,col_indexer] = value instead\n",
      "\n",
      "See the caveats in the documentation: https://pandas.pydata.org/pandas-docs/stable/user_guide/indexing.html#returning-a-view-versus-a-copy\n",
      "  self[name] = value\n"
     ]
    }
   ],
   "source": [
    "netflix_clean.date_added = pd.to_datetime(netflix_clean.date_added)\n",
    "netflix_clean.info()"
   ]
  },
  {
   "cell_type": "markdown",
   "id": "cutting-marijuana",
   "metadata": {},
   "source": [
    "## Data Visulalisation"
   ]
  },
  {
   "cell_type": "markdown",
   "id": "dominican-quantum",
   "metadata": {},
   "source": [
    "### Distribution of Movies and TV Shows over time"
   ]
  },
  {
   "cell_type": "code",
   "execution_count": 40,
   "id": "ecological-digest",
   "metadata": {},
   "outputs": [
    {
     "data": {
      "image/png": "[encoded data removed]",
      "text/plain": [
       "<Figure size 720x360 with 2 Axes>"
      ]
     },
     "metadata": {},
     "output_type": "display_data"
    }
   ],
   "source": [
    "sns.set_theme()\n",
    "\n",
    "sns.displot(data=netflix_clean, x=\"date_added\", col=\"type\", kde=True)\n",
    " \n",
    "plt.show()"
   ]
  },
  {
   "cell_type": "code",
   "execution_count": 41,
   "id": "organizational-wound",
   "metadata": {},
   "outputs": [
    {
     "data": {
      "image/png": "[encoded data removed]",
      "text/plain": [
       "<Figure size 720x360 with 2 Axes>"
      ]
     },
     "metadata": {},
     "output_type": "display_data"
    }
   ],
   "source": [
    "sns.set_theme()\n",
    "\n",
    "sns.displot(data=netflix_clean, x=\"release_year\", col=\"type\", kde=True)\n",
    " \n",
    "plt.show()"
   ]
  },
  {
   "cell_type": "code",
   "execution_count": 56,
   "id": "distant-carpet",
   "metadata": {},
   "outputs": [
    {
     "name": "stderr",
     "output_type": "stream",
     "text": [
      "c:\\users\\dell\\appdata\\local\\programs\\python\\python37-32\\lib\\site-packages\\pandas\\core\\indexing.py:1719: SettingWithCopyWarning:\n",
      "\n",
      "\n",
      "A value is trying to be set on a copy of a slice from a DataFrame.\n",
      "Try using .loc[row_indexer,col_indexer] = value instead\n",
      "\n",
      "See the caveats in the documentation: https://pandas.pydata.org/pandas-docs/stable/user_guide/indexing.html#returning-a-view-versus-a-copy\n",
      "\n"
     ]
    },
    {
     "data": {
      "text/html": [
       "<div>\n",
       "<style scoped>\n",
       "    .dataframe tbody tr th:only-of-type {\n",
       "        vertical-align: middle;\n",
       "    }\n",
       "\n",
       "    .dataframe tbody tr th {\n",
       "        vertical-align: top;\n",
       "    }\n",
       "\n",
       "    .dataframe thead th {\n",
       "        text-align: right;\n",
       "    }\n",
       "</style>\n",
       "<table border=\"1\" class=\"dataframe\">\n",
       "  <thead>\n",
       "    <tr style=\"text-align: right;\">\n",
       "      <th></th>\n",
       "      <th>type</th>\n",
       "      <th>country</th>\n",
       "      <th>title</th>\n",
       "    </tr>\n",
       "  </thead>\n",
       "  <tbody>\n",
       "    <tr>\n",
       "      <th>55</th>\n",
       "      <td>Movie</td>\n",
       "      <td>United States</td>\n",
       "      <td>1667</td>\n",
       "    </tr>\n",
       "    <tr>\n",
       "      <th>31</th>\n",
       "      <td>Movie</td>\n",
       "      <td>Multiple</td>\n",
       "      <td>847</td>\n",
       "    </tr>\n",
       "    <tr>\n",
       "      <th>20</th>\n",
       "      <td>Movie</td>\n",
       "      <td>India</td>\n",
       "      <td>837</td>\n",
       "    </tr>\n",
       "    <tr>\n",
       "      <th>111</th>\n",
       "      <td>TV Show</td>\n",
       "      <td>United States</td>\n",
       "      <td>575</td>\n",
       "    </tr>\n",
       "    <tr>\n",
       "      <th>89</th>\n",
       "      <td>TV Show</td>\n",
       "      <td>Multiple</td>\n",
       "      <td>208</td>\n",
       "    </tr>\n",
       "    <tr>\n",
       "      <th>...</th>\n",
       "      <td>...</td>\n",
       "      <td>...</td>\n",
       "      <td>...</td>\n",
       "    </tr>\n",
       "    <tr>\n",
       "      <th>16</th>\n",
       "      <td>Movie</td>\n",
       "      <td>Guatemala</td>\n",
       "      <td>1</td>\n",
       "    </tr>\n",
       "    <tr>\n",
       "      <th>69</th>\n",
       "      <td>TV Show</td>\n",
       "      <td>Croatia</td>\n",
       "      <td>1</td>\n",
       "    </tr>\n",
       "    <tr>\n",
       "      <th>70</th>\n",
       "      <td>TV Show</td>\n",
       "      <td>Cyprus</td>\n",
       "      <td>1</td>\n",
       "    </tr>\n",
       "    <tr>\n",
       "      <th>94</th>\n",
       "      <td>TV Show</td>\n",
       "      <td>Philippines</td>\n",
       "      <td>1</td>\n",
       "    </tr>\n",
       "    <tr>\n",
       "      <th>73</th>\n",
       "      <td>TV Show</td>\n",
       "      <td>Finland</td>\n",
       "      <td>1</td>\n",
       "    </tr>\n",
       "  </tbody>\n",
       "</table>\n",
       "<p>112 rows × 3 columns</p>\n",
       "</div>"
      ],
      "text/plain": [
       "        type        country  title\n",
       "55     Movie  United States   1667\n",
       "31     Movie       Multiple    847\n",
       "20     Movie          India    837\n",
       "111  TV Show  United States    575\n",
       "89   TV Show       Multiple    208\n",
       "..       ...            ...    ...\n",
       "16     Movie      Guatemala      1\n",
       "69   TV Show        Croatia      1\n",
       "70   TV Show         Cyprus      1\n",
       "94   TV Show    Philippines      1\n",
       "73   TV Show        Finland      1\n",
       "\n",
       "[112 rows x 3 columns]"
      ]
     },
     "execution_count": 56,
     "metadata": {},
     "output_type": "execute_result"
    }
   ],
   "source": [
    "netflix_country = netflix_clean\n",
    "\n",
    "netflix_country.loc[netflix_country['country'].str.contains(\",\", regex=False), 'country'] = \"Multiple\"\n",
    "\n",
    "cat_country = netflix_country.groupby(['type', 'country'], \n",
    "                               as_index=False).agg({'title': pd.Series.count})\n",
    "cat_country.sort_values('title', ascending=False, inplace=True)\n",
    "\n",
    "cat_country"
   ]
  },
  {
   "cell_type": "code",
   "execution_count": 58,
   "id": "taken-muslim",
   "metadata": {},
   "outputs": [
    {
     "data": {
      "application/vnd.plotly.v1+json": {
       "config": {
        "plotlyServerURL": "https://plot.ly"
       },
       "data": [
        {
         "domain": {
          "x": [
           0,
           1
          ],
          "y": [
           0,
           1
          ]
         },
         "hovertemplate": "country=%{label}<br>title=%{value}<extra></extra>",
         "labels": [
          "United States",
          "Multiple",
          "India",
          "United States",
          "Multiple",
          "United Kingdom",
          "United Kingdom",
          "Japan",
          "South Korea",
          "Canada",
          "Egypt",
          "Spain",
          "Turkey",
          "Philippines",
          "Taiwan",
          "Indonesia",
          "Japan",
          "France",
          "Nigeria",
          "Mexico",
          "India",
          "Canada"
         ],
         "legendgroup": "",
         "name": "",
         "showlegend": true,
         "type": "pie",
         "values": [
          1667,
          847,
          837,
          575,
          208,
          168,
          163,
          153,
          145,
          106,
          88,
          77,
          73,
          70,
          68,
          67,
          67,
          63,
          61,
          59,
          57,
          53
         ]
        }
       ],
       "layout": {
        "legend": {
         "tracegroupgap": 0
        },
        "margin": {
         "t": 60
        },
        "template": {
         "data": {
          "bar": [
           {
            "error_x": {
             "color": "#2a3f5f"
            },
            "error_y": {
             "color": "#2a3f5f"
            },
            "marker": {
             "line": {
              "color": "#E5ECF6",
              "width": 0.5
             }
            },
            "type": "bar"
           }
          ],
          "barpolar": [
           {
            "marker": {
             "line": {
              "color": "#E5ECF6",
              "width": 0.5
             }
            },
            "type": "barpolar"
           }
          ],
          "carpet": [
           {
            "aaxis": {
             "endlinecolor": "#2a3f5f",
             "gridcolor": "white",
             "linecolor": "white",
             "minorgridcolor": "white",
             "startlinecolor": "#2a3f5f"
            },
            "baxis": {
             "endlinecolor": "#2a3f5f",
             "gridcolor": "white",
             "linecolor": "white",
             "minorgridcolor": "white",
             "startlinecolor": "#2a3f5f"
            },
            "type": "carpet"
           }
          ],
          "choropleth": [
           {
            "colorbar": {
             "outlinewidth": 0,
             "ticks": ""
            },
            "type": "choropleth"
           }
          ],
          "contour": [
           {
            "colorbar": {
             "outlinewidth": 0,
             "ticks": ""
            },
            "colorscale": [
             [
              0,
              "#0d0887"
             ],
             [
              0.1111111111111111,
              "#46039f"
             ],
             [
              0.2222222222222222,
              "#7201a8"
             ],
             [
              0.3333333333333333,
              "#9c179e"
             ],
             [
              0.4444444444444444,
              "#bd3786"
             ],
             [
              0.5555555555555556,
              "#d8576b"
             ],
             [
              0.6666666666666666,
              "#ed7953"
             ],
             [
              0.7777777777777778,
              "#fb9f3a"
             ],
             [
              0.8888888888888888,
              "#fdca26"
             ],
             [
              1,
              "#f0f921"
             ]
            ],
            "type": "contour"
           }
          ],
          "contourcarpet": [
           {
            "colorbar": {
             "outlinewidth": 0,
             "ticks": ""
            },
            "type": "contourcarpet"
           }
          ],
          "heatmap": [
           {
            "colorbar": {
             "outlinewidth": 0,
             "ticks": ""
            },
            "colorscale": [
             [
              0,
              "#0d0887"
             ],
             [
              0.1111111111111111,
              "#46039f"
             ],
             [
              0.2222222222222222,
              "#7201a8"
             ],
             [
              0.3333333333333333,
              "#9c179e"
             ],
             [
              0.4444444444444444,
              "#bd3786"
             ],
             [
              0.5555555555555556,
              "#d8576b"
             ],
             [
              0.6666666666666666,
              "#ed7953"
             ],
             [
              0.7777777777777778,
              "#fb9f3a"
             ],
             [
              0.8888888888888888,
              "#fdca26"
             ],
             [
              1,
              "#f0f921"
             ]
            ],
            "type": "heatmap"
           }
          ],
          "heatmapgl": [
           {
            "colorbar": {
             "outlinewidth": 0,
             "ticks": ""
            },
            "colorscale": [
             [
              0,
              "#0d0887"
             ],
             [
              0.1111111111111111,
              "#46039f"
             ],
             [
              0.2222222222222222,
              "#7201a8"
             ],
             [
              0.3333333333333333,
              "#9c179e"
             ],
             [
              0.4444444444444444,
              "#bd3786"
             ],
             [
              0.5555555555555556,
              "#d8576b"
             ],
             [
              0.6666666666666666,
              "#ed7953"
             ],
             [
              0.7777777777777778,
              "#fb9f3a"
             ],
             [
              0.8888888888888888,
              "#fdca26"
             ],
             [
              1,
              "#f0f921"
             ]
            ],
            "type": "heatmapgl"
           }
          ],
          "histogram": [
           {
            "marker": {
             "colorbar": {
              "outlinewidth": 0,
              "ticks": ""
             }
            },
            "type": "histogram"
           }
          ],
          "histogram2d": [
           {
            "colorbar": {
             "outlinewidth": 0,
             "ticks": ""
            },
            "colorscale": [
             [
              0,
              "#0d0887"
             ],
             [
              0.1111111111111111,
              "#46039f"
             ],
             [
              0.2222222222222222,
              "#7201a8"
             ],
             [
              0.3333333333333333,
              "#9c179e"
             ],
             [
              0.4444444444444444,
              "#bd3786"
             ],
             [
              0.5555555555555556,
              "#d8576b"
             ],
             [
              0.6666666666666666,
              "#ed7953"
             ],
             [
              0.7777777777777778,
              "#fb9f3a"
             ],
             [
              0.8888888888888888,
              "#fdca26"
             ],
             [
              1,
              "#f0f921"
             ]
            ],
            "type": "histogram2d"
           }
          ],
          "histogram2dcontour": [
           {
            "colorbar": {
             "outlinewidth": 0,
             "ticks": ""
            },
            "colorscale": [
             [
              0,
              "#0d0887"
             ],
             [
              0.1111111111111111,
              "#46039f"
             ],
             [
              0.2222222222222222,
              "#7201a8"
             ],
             [
              0.3333333333333333,
              "#9c179e"
             ],
             [
              0.4444444444444444,
              "#bd3786"
             ],
             [
              0.5555555555555556,
              "#d8576b"
             ],
             [
              0.6666666666666666,
              "#ed7953"
             ],
             [
              0.7777777777777778,
              "#fb9f3a"
             ],
             [
              0.8888888888888888,
              "#fdca26"
             ],
             [
              1,
              "#f0f921"
             ]
            ],
            "type": "histogram2dcontour"
           }
          ],
          "mesh3d": [
           {
            "colorbar": {
             "outlinewidth": 0,
             "ticks": ""
            },
            "type": "mesh3d"
           }
          ],
          "parcoords": [
           {
            "line": {
             "colorbar": {
              "outlinewidth": 0,
              "ticks": ""
             }
            },
            "type": "parcoords"
           }
          ],
          "pie": [
           {
            "automargin": true,
            "type": "pie"
           }
          ],
          "scatter": [
           {
            "marker": {
             "colorbar": {
              "outlinewidth": 0,
              "ticks": ""
             }
            },
            "type": "scatter"
           }
          ],
          "scatter3d": [
           {
            "line": {
             "colorbar": {
              "outlinewidth": 0,
              "ticks": ""
             }
            },
            "marker": {
             "colorbar": {
              "outlinewidth": 0,
              "ticks": ""
             }
            },
            "type": "scatter3d"
           }
          ],
          "scattercarpet": [
           {
            "marker": {
             "colorbar": {
              "outlinewidth": 0,
              "ticks": ""
             }
            },
            "type": "scattercarpet"
           }
          ],
          "scattergeo": [
           {
            "marker": {
             "colorbar": {
              "outlinewidth": 0,
              "ticks": ""
             }
            },
            "type": "scattergeo"
           }
          ],
          "scattergl": [
           {
            "marker": {
             "colorbar": {
              "outlinewidth": 0,
              "ticks": ""
             }
            },
            "type": "scattergl"
           }
          ],
          "scattermapbox": [
           {
            "marker": {
             "colorbar": {
              "outlinewidth": 0,
              "ticks": ""
             }
            },
            "type": "scattermapbox"
           }
          ],
          "scatterpolar": [
           {
            "marker": {
             "colorbar": {
              "outlinewidth": 0,
              "ticks": ""
             }
            },
            "type": "scatterpolar"
           }
          ],
          "scatterpolargl": [
           {
            "marker": {
             "colorbar": {
              "outlinewidth": 0,
              "ticks": ""
             }
            },
            "type": "scatterpolargl"
           }
          ],
          "scatterternary": [
           {
            "marker": {
             "colorbar": {
              "outlinewidth": 0,
              "ticks": ""
             }
            },
            "type": "scatterternary"
           }
          ],
          "surface": [
           {
            "colorbar": {
             "outlinewidth": 0,
             "ticks": ""
            },
            "colorscale": [
             [
              0,
              "#0d0887"
             ],
             [
              0.1111111111111111,
              "#46039f"
             ],
             [
              0.2222222222222222,
              "#7201a8"
             ],
             [
              0.3333333333333333,
              "#9c179e"
             ],
             [
              0.4444444444444444,
              "#bd3786"
             ],
             [
              0.5555555555555556,
              "#d8576b"
             ],
             [
              0.6666666666666666,
              "#ed7953"
             ],
             [
              0.7777777777777778,
              "#fb9f3a"
             ],
             [
              0.8888888888888888,
              "#fdca26"
             ],
             [
              1,
              "#f0f921"
             ]
            ],
            "type": "surface"
           }
          ],
          "table": [
           {
            "cells": {
             "fill": {
              "color": "#EBF0F8"
             },
             "line": {
              "color": "white"
             }
            },
            "header": {
             "fill": {
              "color": "#C8D4E3"
             },
             "line": {
              "color": "white"
             }
            },
            "type": "table"
           }
          ]
         },
         "layout": {
          "annotationdefaults": {
           "arrowcolor": "#2a3f5f",
           "arrowhead": 0,
           "arrowwidth": 1
          },
          "autotypenumbers": "strict",
          "coloraxis": {
           "colorbar": {
            "outlinewidth": 0,
            "ticks": ""
           }
          },
          "colorscale": {
           "diverging": [
            [
             0,
             "#8e0152"
            ],
            [
             0.1,
             "#c51b7d"
            ],
            [
             0.2,
             "#de77ae"
            ],
            [
             0.3,
             "#f1b6da"
            ],
            [
             0.4,
             "#fde0ef"
            ],
            [
             0.5,
             "#f7f7f7"
            ],
            [
             0.6,
             "#e6f5d0"
            ],
            [
             0.7,
             "#b8e186"
            ],
            [
             0.8,
             "#7fbc41"
            ],
            [
             0.9,
             "#4d9221"
            ],
            [
             1,
             "#276419"
            ]
           ],
           "sequential": [
            [
             0,
             "#0d0887"
            ],
            [
             0.1111111111111111,
             "#46039f"
            ],
            [
             0.2222222222222222,
             "#7201a8"
            ],
            [
             0.3333333333333333,
             "#9c179e"
            ],
            [
             0.4444444444444444,
             "#bd3786"
            ],
            [
             0.5555555555555556,
             "#d8576b"
            ],
            [
             0.6666666666666666,
             "#ed7953"
            ],
            [
             0.7777777777777778,
             "#fb9f3a"
            ],
            [
             0.8888888888888888,
             "#fdca26"
            ],
            [
             1,
             "#f0f921"
            ]
           ],
           "sequentialminus": [
            [
             0,
             "#0d0887"
            ],
            [
             0.1111111111111111,
             "#46039f"
            ],
            [
             0.2222222222222222,
             "#7201a8"
            ],
            [
             0.3333333333333333,
             "#9c179e"
            ],
            [
             0.4444444444444444,
             "#bd3786"
            ],
            [
             0.5555555555555556,
             "#d8576b"
            ],
            [
             0.6666666666666666,
             "#ed7953"
            ],
            [
             0.7777777777777778,
             "#fb9f3a"
            ],
            [
             0.8888888888888888,
             "#fdca26"
            ],
            [
             1,
             "#f0f921"
            ]
           ]
          },
          "colorway": [
           "#636efa",
           "#EF553B",
           "#00cc96",
           "#ab63fa",
           "#FFA15A",
           "#19d3f3",
           "#FF6692",
           "#B6E880",
           "#FF97FF",
           "#FECB52"
          ],
          "font": {
           "color": "#2a3f5f"
          },
          "geo": {
           "bgcolor": "white",
           "lakecolor": "white",
           "landcolor": "#E5ECF6",
           "showlakes": true,
           "showland": true,
           "subunitcolor": "white"
          },
          "hoverlabel": {
           "align": "left"
          },
          "hovermode": "closest",
          "mapbox": {
           "style": "light"
          },
          "paper_bgcolor": "white",
          "plot_bgcolor": "#E5ECF6",
          "polar": {
           "angularaxis": {
            "gridcolor": "white",
            "linecolor": "white",
            "ticks": ""
           },
           "bgcolor": "#E5ECF6",
           "radialaxis": {
            "gridcolor": "white",
            "linecolor": "white",
            "ticks": ""
           }
          },
          "scene": {
           "xaxis": {
            "backgroundcolor": "#E5ECF6",
            "gridcolor": "white",
            "gridwidth": 2,
            "linecolor": "white",
            "showbackground": true,
            "ticks": "",
            "zerolinecolor": "white"
           },
           "yaxis": {
            "backgroundcolor": "#E5ECF6",
            "gridcolor": "white",
            "gridwidth": 2,
            "linecolor": "white",
            "showbackground": true,
            "ticks": "",
            "zerolinecolor": "white"
           },
           "zaxis": {
            "backgroundcolor": "#E5ECF6",
            "gridcolor": "white",
            "gridwidth": 2,
            "linecolor": "white",
            "showbackground": true,
            "ticks": "",
            "zerolinecolor": "white"
           }
          },
          "shapedefaults": {
           "line": {
            "color": "#2a3f5f"
           }
          },
          "ternary": {
           "aaxis": {
            "gridcolor": "white",
            "linecolor": "white",
            "ticks": ""
           },
           "baxis": {
            "gridcolor": "white",
            "linecolor": "white",
            "ticks": ""
           },
           "bgcolor": "#E5ECF6",
           "caxis": {
            "gridcolor": "white",
            "linecolor": "white",
            "ticks": ""
           }
          },
          "title": {
           "x": 0.05
          },
          "xaxis": {
           "automargin": true,
           "gridcolor": "white",
           "linecolor": "white",
           "ticks": "",
           "title": {
            "standoff": 15
           },
           "zerolinecolor": "white",
           "zerolinewidth": 2
          },
          "yaxis": {
           "automargin": true,
           "gridcolor": "white",
           "linecolor": "white",
           "ticks": "",
           "title": {
            "standoff": 15
           },
           "zerolinecolor": "white",
           "zerolinewidth": 2
          }
         }
        }
       }
      },
      "text/html": [
       "<div>                            <div id=\"6456d8cc-4006-4b73-a56c-e39ea9352fda\" class=\"plotly-graph-div\" style=\"height:525px; width:100%;\"></div>            <script type=\"text/javascript\">                require([\"plotly\"], function(Plotly) {                    window.PLOTLYENV=window.PLOTLYENV || {};                                    if (document.getElementById(\"6456d8cc-4006-4b73-a56c-e39ea9352fda\")) {                    Plotly.newPlot(                        \"6456d8cc-4006-4b73-a56c-e39ea9352fda\",                        [{\"domain\": {\"x\": [0.0, 1.0], \"y\": [0.0, 1.0]}, \"hovertemplate\": \"country=%{label}<br>title=%{value}<extra></extra>\", \"labels\": [\"United States\", \"Multiple\", \"India\", \"United States\", \"Multiple\", \"United Kingdom\", \"United Kingdom\", \"Japan\", \"South Korea\", \"Canada\", \"Egypt\", \"Spain\", \"Turkey\", \"Philippines\", \"Taiwan\", \"Indonesia\", \"Japan\", \"France\", \"Nigeria\", \"Mexico\", \"India\", \"Canada\"], \"legendgroup\": \"\", \"name\": \"\", \"showlegend\": true, \"type\": \"pie\", \"values\": [1667, 847, 837, 575, 208, 168, 163, 153, 145, 106, 88, 77, 73, 70, 68, 67, 67, 63, 61, 59, 57, 53]}],                        {\"legend\": {\"tracegroupgap\": 0}, \"margin\": {\"t\": 60}, \"template\": {\"data\": {\"bar\": [{\"error_x\": {\"color\": \"#2a3f5f\"}, \"error_y\": {\"color\": \"#2a3f5f\"}, \"marker\": {\"line\": {\"color\": \"#E5ECF6\", \"width\": 0.5}}, \"type\": \"bar\"}], \"barpolar\": [{\"marker\": {\"line\": {\"color\": \"#E5ECF6\", \"width\": 0.5}}, \"type\": \"barpolar\"}], \"carpet\": [{\"aaxis\": {\"endlinecolor\": \"#2a3f5f\", \"gridcolor\": \"white\", \"linecolor\": \"white\", \"minorgridcolor\": \"white\", \"startlinecolor\": \"#2a3f5f\"}, \"baxis\": {\"endlinecolor\": \"#2a3f5f\", \"gridcolor\": \"white\", \"linecolor\": \"white\", \"minorgridcolor\": \"white\", \"startlinecolor\": \"#2a3f5f\"}, \"type\": \"carpet\"}], \"choropleth\": [{\"colorbar\": {\"outlinewidth\": 0, \"ticks\": \"\"}, \"type\": \"choropleth\"}], \"contour\": [{\"colorbar\": {\"outlinewidth\": 0, \"ticks\": \"\"}, \"colorscale\": [[0.0, \"#0d0887\"], [0.1111111111111111, \"#46039f\"], [0.2222222222222222, \"#7201a8\"], [0.3333333333333333, \"#9c179e\"], [0.4444444444444444, \"#bd3786\"], [0.5555555555555556, \"#d8576b\"], [0.6666666666666666, \"#ed7953\"], [0.7777777777777778, \"#fb9f3a\"], [0.8888888888888888, \"#fdca26\"], [1.0, \"#f0f921\"]], \"type\": \"contour\"}], \"contourcarpet\": [{\"colorbar\": {\"outlinewidth\": 0, \"ticks\": \"\"}, \"type\": \"contourcarpet\"}], \"heatmap\": [{\"colorbar\": {\"outlinewidth\": 0, \"ticks\": \"\"}, \"colorscale\": [[0.0, \"#0d0887\"], [0.1111111111111111, \"#46039f\"], [0.2222222222222222, \"#7201a8\"], [0.3333333333333333, \"#9c179e\"], [0.4444444444444444, \"#bd3786\"], [0.5555555555555556, \"#d8576b\"], [0.6666666666666666, \"#ed7953\"], [0.7777777777777778, \"#fb9f3a\"], [0.8888888888888888, \"#fdca26\"], [1.0, \"#f0f921\"]], \"type\": \"heatmap\"}], \"heatmapgl\": [{\"colorbar\": {\"outlinewidth\": 0, \"ticks\": \"\"}, \"colorscale\": [[0.0, \"#0d0887\"], [0.1111111111111111, \"#46039f\"], [0.2222222222222222, \"#7201a8\"], [0.3333333333333333, \"#9c179e\"], [0.4444444444444444, \"#bd3786\"], [0.5555555555555556, \"#d8576b\"], [0.6666666666666666, \"#ed7953\"], [0.7777777777777778, \"#fb9f3a\"], [0.8888888888888888, \"#fdca26\"], [1.0, \"#f0f921\"]], \"type\": \"heatmapgl\"}], \"histogram\": [{\"marker\": {\"colorbar\": {\"outlinewidth\": 0, \"ticks\": \"\"}}, \"type\": \"histogram\"}], \"histogram2d\": [{\"colorbar\": {\"outlinewidth\": 0, \"ticks\": \"\"}, \"colorscale\": [[0.0, \"#0d0887\"], [0.1111111111111111, \"#46039f\"], [0.2222222222222222, \"#7201a8\"], [0.3333333333333333, \"#9c179e\"], [0.4444444444444444, \"#bd3786\"], [0.5555555555555556, \"#d8576b\"], [0.6666666666666666, \"#ed7953\"], [0.7777777777777778, \"#fb9f3a\"], [0.8888888888888888, \"#fdca26\"], [1.0, \"#f0f921\"]], \"type\": \"histogram2d\"}], \"histogram2dcontour\": [{\"colorbar\": {\"outlinewidth\": 0, \"ticks\": \"\"}, \"colorscale\": [[0.0, \"#0d0887\"], [0.1111111111111111, \"#46039f\"], [0.2222222222222222, \"#7201a8\"], [0.3333333333333333, \"#9c179e\"], [0.4444444444444444, \"#bd3786\"], [0.5555555555555556, \"#d8576b\"], [0.6666666666666666, \"#ed7953\"], [0.7777777777777778, \"#fb9f3a\"], [0.8888888888888888, \"#fdca26\"], [1.0, \"#f0f921\"]], \"type\": \"histogram2dcontour\"}], \"mesh3d\": [{\"colorbar\": {\"outlinewidth\": 0, \"ticks\": \"\"}, \"type\": \"mesh3d\"}], \"parcoords\": [{\"line\": {\"colorbar\": {\"outlinewidth\": 0, \"ticks\": \"\"}}, \"type\": \"parcoords\"}], \"pie\": [{\"automargin\": true, \"type\": \"pie\"}], \"scatter\": [{\"marker\": {\"colorbar\": {\"outlinewidth\": 0, \"ticks\": \"\"}}, \"type\": \"scatter\"}], \"scatter3d\": [{\"line\": {\"colorbar\": {\"outlinewidth\": 0, \"ticks\": \"\"}}, \"marker\": {\"colorbar\": {\"outlinewidth\": 0, \"ticks\": \"\"}}, \"type\": \"scatter3d\"}], \"scattercarpet\": [{\"marker\": {\"colorbar\": {\"outlinewidth\": 0, \"ticks\": \"\"}}, \"type\": \"scattercarpet\"}], \"scattergeo\": [{\"marker\": {\"colorbar\": {\"outlinewidth\": 0, \"ticks\": \"\"}}, \"type\": \"scattergeo\"}], \"scattergl\": [{\"marker\": {\"colorbar\": {\"outlinewidth\": 0, \"ticks\": \"\"}}, \"type\": \"scattergl\"}], \"scattermapbox\": [{\"marker\": {\"colorbar\": {\"outlinewidth\": 0, \"ticks\": \"\"}}, \"type\": \"scattermapbox\"}], \"scatterpolar\": [{\"marker\": {\"colorbar\": {\"outlinewidth\": 0, \"ticks\": \"\"}}, \"type\": \"scatterpolar\"}], \"scatterpolargl\": [{\"marker\": {\"colorbar\": {\"outlinewidth\": 0, \"ticks\": \"\"}}, \"type\": \"scatterpolargl\"}], \"scatterternary\": [{\"marker\": {\"colorbar\": {\"outlinewidth\": 0, \"ticks\": \"\"}}, \"type\": \"scatterternary\"}], \"surface\": [{\"colorbar\": {\"outlinewidth\": 0, \"ticks\": \"\"}, \"colorscale\": [[0.0, \"#0d0887\"], [0.1111111111111111, \"#46039f\"], [0.2222222222222222, \"#7201a8\"], [0.3333333333333333, \"#9c179e\"], [0.4444444444444444, \"#bd3786\"], [0.5555555555555556, \"#d8576b\"], [0.6666666666666666, \"#ed7953\"], [0.7777777777777778, \"#fb9f3a\"], [0.8888888888888888, \"#fdca26\"], [1.0, \"#f0f921\"]], \"type\": \"surface\"}], \"table\": [{\"cells\": {\"fill\": {\"color\": \"#EBF0F8\"}, \"line\": {\"color\": \"white\"}}, \"header\": {\"fill\": {\"color\": \"#C8D4E3\"}, \"line\": {\"color\": \"white\"}}, \"type\": \"table\"}]}, \"layout\": {\"annotationdefaults\": {\"arrowcolor\": \"#2a3f5f\", \"arrowhead\": 0, \"arrowwidth\": 1}, \"autotypenumbers\": \"strict\", \"coloraxis\": {\"colorbar\": {\"outlinewidth\": 0, \"ticks\": \"\"}}, \"colorscale\": {\"diverging\": [[0, \"#8e0152\"], [0.1, \"#c51b7d\"], [0.2, \"#de77ae\"], [0.3, \"#f1b6da\"], [0.4, \"#fde0ef\"], [0.5, \"#f7f7f7\"], [0.6, \"#e6f5d0\"], [0.7, \"#b8e186\"], [0.8, \"#7fbc41\"], [0.9, \"#4d9221\"], [1, \"#276419\"]], \"sequential\": [[0.0, \"#0d0887\"], [0.1111111111111111, \"#46039f\"], [0.2222222222222222, \"#7201a8\"], [0.3333333333333333, \"#9c179e\"], [0.4444444444444444, \"#bd3786\"], [0.5555555555555556, \"#d8576b\"], [0.6666666666666666, \"#ed7953\"], [0.7777777777777778, \"#fb9f3a\"], [0.8888888888888888, \"#fdca26\"], [1.0, \"#f0f921\"]], \"sequentialminus\": [[0.0, \"#0d0887\"], [0.1111111111111111, \"#46039f\"], [0.2222222222222222, \"#7201a8\"], [0.3333333333333333, \"#9c179e\"], [0.4444444444444444, \"#bd3786\"], [0.5555555555555556, \"#d8576b\"], [0.6666666666666666, \"#ed7953\"], [0.7777777777777778, \"#fb9f3a\"], [0.8888888888888888, \"#fdca26\"], [1.0, \"#f0f921\"]]}, \"colorway\": [\"#636efa\", \"#EF553B\", \"#00cc96\", \"#ab63fa\", \"#FFA15A\", \"#19d3f3\", \"#FF6692\", \"#B6E880\", \"#FF97FF\", \"#FECB52\"], \"font\": {\"color\": \"#2a3f5f\"}, \"geo\": {\"bgcolor\": \"white\", \"lakecolor\": \"white\", \"landcolor\": \"#E5ECF6\", \"showlakes\": true, \"showland\": true, \"subunitcolor\": \"white\"}, \"hoverlabel\": {\"align\": \"left\"}, \"hovermode\": \"closest\", \"mapbox\": {\"style\": \"light\"}, \"paper_bgcolor\": \"white\", \"plot_bgcolor\": \"#E5ECF6\", \"polar\": {\"angularaxis\": {\"gridcolor\": \"white\", \"linecolor\": \"white\", \"ticks\": \"\"}, \"bgcolor\": \"#E5ECF6\", \"radialaxis\": {\"gridcolor\": \"white\", \"linecolor\": \"white\", \"ticks\": \"\"}}, \"scene\": {\"xaxis\": {\"backgroundcolor\": \"#E5ECF6\", \"gridcolor\": \"white\", \"gridwidth\": 2, \"linecolor\": \"white\", \"showbackground\": true, \"ticks\": \"\", \"zerolinecolor\": \"white\"}, \"yaxis\": {\"backgroundcolor\": \"#E5ECF6\", \"gridcolor\": \"white\", \"gridwidth\": 2, \"linecolor\": \"white\", \"showbackground\": true, \"ticks\": \"\", \"zerolinecolor\": \"white\"}, \"zaxis\": {\"backgroundcolor\": \"#E5ECF6\", \"gridcolor\": \"white\", \"gridwidth\": 2, \"linecolor\": \"white\", \"showbackground\": true, \"ticks\": \"\", \"zerolinecolor\": \"white\"}}, \"shapedefaults\": {\"line\": {\"color\": \"#2a3f5f\"}}, \"ternary\": {\"aaxis\": {\"gridcolor\": \"white\", \"linecolor\": \"white\", \"ticks\": \"\"}, \"baxis\": {\"gridcolor\": \"white\", \"linecolor\": \"white\", \"ticks\": \"\"}, \"bgcolor\": \"#E5ECF6\", \"caxis\": {\"gridcolor\": \"white\", \"linecolor\": \"white\", \"ticks\": \"\"}}, \"title\": {\"x\": 0.05}, \"xaxis\": {\"automargin\": true, \"gridcolor\": \"white\", \"linecolor\": \"white\", \"ticks\": \"\", \"title\": {\"standoff\": 15}, \"zerolinecolor\": \"white\", \"zerolinewidth\": 2}, \"yaxis\": {\"automargin\": true, \"gridcolor\": \"white\", \"linecolor\": \"white\", \"ticks\": \"\", \"title\": {\"standoff\": 15}, \"zerolinecolor\": \"white\", \"zerolinewidth\": 2}}}},                        {\"responsive\": true}                    ).then(function(){\n",
       "                            \n",
       "var gd = document.getElementById('6456d8cc-4006-4b73-a56c-e39ea9352fda');\n",
       "var x = new MutationObserver(function (mutations, observer) {{\n",
       "        var display = window.getComputedStyle(gd).display;\n",
       "        if (!display || display === 'none') {{\n",
       "            console.log([gd, 'removed!']);\n",
       "            Plotly.purge(gd);\n",
       "            observer.disconnect();\n",
       "        }}\n",
       "}});\n",
       "\n",
       "// Listen for the removal of the full notebook cells\n",
       "var notebookContainer = gd.closest('#notebook-container');\n",
       "if (notebookContainer) {{\n",
       "    x.observe(notebookContainer, {childList: true});\n",
       "}}\n",
       "\n",
       "// Listen for the clearing of the current output cell\n",
       "var outputEl = gd.closest('.output');\n",
       "if (outputEl) {{\n",
       "    x.observe(outputEl, {childList: true});\n",
       "}}\n",
       "\n",
       "                        })                };                });            </script>        </div>"
      ]
     },
     "metadata": {},
     "output_type": "display_data"
    }
   ],
   "source": [
    "fig = px.pie(cat_country.loc[cat_country.title > 50], values=\"title\", names=\"country\")\n",
    "fig.show()"
   ]
  },
  {
   "cell_type": "code",
   "execution_count": 62,
   "id": "controlled-chassis",
   "metadata": {},
   "outputs": [
    {
     "data": {
      "application/vnd.plotly.v1+json": {
       "config": {
        "plotlyServerURL": "https://plot.ly"
       },
       "data": [
        {
         "alignmentgroup": "True",
         "hovertemplate": "type=Movie<br>country=%{x}<br>title=%{y}<extra></extra>",
         "legendgroup": "Movie",
         "marker": {
          "color": "#636efa"
         },
         "name": "Movie",
         "offsetgroup": "Movie",
         "orientation": "v",
         "showlegend": true,
         "textposition": "auto",
         "type": "bar",
         "x": [
          "United States",
          "Multiple",
          "India",
          "United Kingdom",
          "Canada",
          "Egypt",
          "Spain",
          "Turkey",
          "Philippines",
          "Indonesia",
          "Japan",
          "France",
          "Nigeria",
          "Mexico",
          "Hong Kong",
          "Brazil",
          "Germany",
          "South Korea",
          "Thailand",
          "Australia",
          "Argentina"
         ],
         "xaxis": "x",
         "y": [
          1667,
          847,
          837,
          163,
          106,
          88,
          77,
          73,
          70,
          67,
          67,
          63,
          61,
          59,
          49,
          40,
          37,
          35,
          34,
          33,
          31
         ],
         "yaxis": "y"
        },
        {
         "alignmentgroup": "True",
         "hovertemplate": "type=TV Show<br>country=%{x}<br>title=%{y}<extra></extra>",
         "legendgroup": "TV Show",
         "marker": {
          "color": "#EF553B"
         },
         "name": "TV Show",
         "offsetgroup": "TV Show",
         "orientation": "v",
         "showlegend": true,
         "textposition": "auto",
         "type": "bar",
         "x": [
          "United States",
          "Multiple",
          "United Kingdom",
          "Japan",
          "South Korea",
          "Taiwan",
          "India",
          "Canada",
          "Spain",
          "Australia",
          "France",
          "China",
          "Mexico"
         ],
         "xaxis": "x",
         "y": [
          575,
          208,
          168,
          153,
          145,
          68,
          57,
          53,
          40,
          39,
          36,
          36,
          33
         ],
         "yaxis": "y"
        }
       ],
       "layout": {
        "barmode": "relative",
        "legend": {
         "title": {
          "text": "type"
         },
         "tracegroupgap": 0
        },
        "margin": {
         "t": 60
        },
        "template": {
         "data": {
          "bar": [
           {
            "error_x": {
             "color": "#2a3f5f"
            },
            "error_y": {
             "color": "#2a3f5f"
            },
            "marker": {
             "line": {
              "color": "#E5ECF6",
              "width": 0.5
             }
            },
            "type": "bar"
           }
          ],
          "barpolar": [
           {
            "marker": {
             "line": {
              "color": "#E5ECF6",
              "width": 0.5
             }
            },
            "type": "barpolar"
           }
          ],
          "carpet": [
           {
            "aaxis": {
             "endlinecolor": "#2a3f5f",
             "gridcolor": "white",
             "linecolor": "white",
             "minorgridcolor": "white",
             "startlinecolor": "#2a3f5f"
            },
            "baxis": {
             "endlinecolor": "#2a3f5f",
             "gridcolor": "white",
             "linecolor": "white",
             "minorgridcolor": "white",
             "startlinecolor": "#2a3f5f"
            },
            "type": "carpet"
           }
          ],
          "choropleth": [
           {
            "colorbar": {
             "outlinewidth": 0,
             "ticks": ""
            },
            "type": "choropleth"
           }
          ],
          "contour": [
           {
            "colorbar": {
             "outlinewidth": 0,
             "ticks": ""
            },
            "colorscale": [
             [
              0,
              "#0d0887"
             ],
             [
              0.1111111111111111,
              "#46039f"
             ],
             [
              0.2222222222222222,
              "#7201a8"
             ],
             [
              0.3333333333333333,
              "#9c179e"
             ],
             [
              0.4444444444444444,
              "#bd3786"
             ],
             [
              0.5555555555555556,
              "#d8576b"
             ],
             [
              0.6666666666666666,
              "#ed7953"
             ],
             [
              0.7777777777777778,
              "#fb9f3a"
             ],
             [
              0.8888888888888888,
              "#fdca26"
             ],
             [
              1,
              "#f0f921"
             ]
            ],
            "type": "contour"
           }
          ],
          "contourcarpet": [
           {
            "colorbar": {
             "outlinewidth": 0,
             "ticks": ""
            },
            "type": "contourcarpet"
           }
          ],
          "heatmap": [
           {
            "colorbar": {
             "outlinewidth": 0,
             "ticks": ""
            },
            "colorscale": [
             [
              0,
              "#0d0887"
             ],
             [
              0.1111111111111111,
              "#46039f"
             ],
             [
              0.2222222222222222,
              "#7201a8"
             ],
             [
              0.3333333333333333,
              "#9c179e"
             ],
             [
              0.4444444444444444,
              "#bd3786"
             ],
             [
              0.5555555555555556,
              "#d8576b"
             ],
             [
              0.6666666666666666,
              "#ed7953"
             ],
             [
              0.7777777777777778,
              "#fb9f3a"
             ],
             [
              0.8888888888888888,
              "#fdca26"
             ],
             [
              1,
              "#f0f921"
             ]
            ],
            "type": "heatmap"
           }
          ],
          "heatmapgl": [
           {
            "colorbar": {
             "outlinewidth": 0,
             "ticks": ""
            },
            "colorscale": [
             [
              0,
              "#0d0887"
             ],
             [
              0.1111111111111111,
              "#46039f"
             ],
             [
              0.2222222222222222,
              "#7201a8"
             ],
             [
              0.3333333333333333,
              "#9c179e"
             ],
             [
              0.4444444444444444,
              "#bd3786"
             ],
             [
              0.5555555555555556,
              "#d8576b"
             ],
             [
              0.6666666666666666,
              "#ed7953"
             ],
             [
              0.7777777777777778,
              "#fb9f3a"
             ],
             [
              0.8888888888888888,
              "#fdca26"
             ],
             [
              1,
              "#f0f921"
             ]
            ],
            "type": "heatmapgl"
           }
          ],
          "histogram": [
           {
            "marker": {
             "colorbar": {
              "outlinewidth": 0,
              "ticks": ""
             }
            },
            "type": "histogram"
           }
          ],
          "histogram2d": [
           {
            "colorbar": {
             "outlinewidth": 0,
             "ticks": ""
            },
            "colorscale": [
             [
              0,
              "#0d0887"
             ],
             [
              0.1111111111111111,
              "#46039f"
             ],
             [
              0.2222222222222222,
              "#7201a8"
             ],
             [
              0.3333333333333333,
              "#9c179e"
             ],
             [
              0.4444444444444444,
              "#bd3786"
             ],
             [
              0.5555555555555556,
              "#d8576b"
             ],
             [
              0.6666666666666666,
              "#ed7953"
             ],
             [
              0.7777777777777778,
              "#fb9f3a"
             ],
             [
              0.8888888888888888,
              "#fdca26"
             ],
             [
              1,
              "#f0f921"
             ]
            ],
            "type": "histogram2d"
           }
          ],
          "histogram2dcontour": [
           {
            "colorbar": {
             "outlinewidth": 0,
             "ticks": ""
            },
            "colorscale": [
             [
              0,
              "#0d0887"
             ],
             [
              0.1111111111111111,
              "#46039f"
             ],
             [
              0.2222222222222222,
              "#7201a8"
             ],
             [
              0.3333333333333333,
              "#9c179e"
             ],
             [
              0.4444444444444444,
              "#bd3786"
             ],
             [
              0.5555555555555556,
              "#d8576b"
             ],
             [
              0.6666666666666666,
              "#ed7953"
             ],
             [
              0.7777777777777778,
              "#fb9f3a"
             ],
             [
              0.8888888888888888,
              "#fdca26"
             ],
             [
              1,
              "#f0f921"
             ]
            ],
            "type": "histogram2dcontour"
           }
          ],
          "mesh3d": [
           {
            "colorbar": {
             "outlinewidth": 0,
             "ticks": ""
            },
            "type": "mesh3d"
           }
          ],
          "parcoords": [
           {
            "line": {
             "colorbar": {
              "outlinewidth": 0,
              "ticks": ""
             }
            },
            "type": "parcoords"
           }
          ],
          "pie": [
           {
            "automargin": true,
            "type": "pie"
           }
          ],
          "scatter": [
           {
            "marker": {
             "colorbar": {
              "outlinewidth": 0,
              "ticks": ""
             }
            },
            "type": "scatter"
           }
          ],
          "scatter3d": [
           {
            "line": {
             "colorbar": {
              "outlinewidth": 0,
              "ticks": ""
             }
            },
            "marker": {
             "colorbar": {
              "outlinewidth": 0,
              "ticks": ""
             }
            },
            "type": "scatter3d"
           }
          ],
          "scattercarpet": [
           {
            "marker": {
             "colorbar": {
              "outlinewidth": 0,
              "ticks": ""
             }
            },
            "type": "scattercarpet"
           }
          ],
          "scattergeo": [
           {
            "marker": {
             "colorbar": {
              "outlinewidth": 0,
              "ticks": ""
             }
            },
            "type": "scattergeo"
           }
          ],
          "scattergl": [
           {
            "marker": {
             "colorbar": {
              "outlinewidth": 0,
              "ticks": ""
             }
            },
            "type": "scattergl"
           }
          ],
          "scattermapbox": [
           {
            "marker": {
             "colorbar": {
              "outlinewidth": 0,
              "ticks": ""
             }
            },
            "type": "scattermapbox"
           }
          ],
          "scatterpolar": [
           {
            "marker": {
             "colorbar": {
              "outlinewidth": 0,
              "ticks": ""
             }
            },
            "type": "scatterpolar"
           }
          ],
          "scatterpolargl": [
           {
            "marker": {
             "colorbar": {
              "outlinewidth": 0,
              "ticks": ""
             }
            },
            "type": "scatterpolargl"
           }
          ],
          "scatterternary": [
           {
            "marker": {
             "colorbar": {
              "outlinewidth": 0,
              "ticks": ""
             }
            },
            "type": "scatterternary"
           }
          ],
          "surface": [
           {
            "colorbar": {
             "outlinewidth": 0,
             "ticks": ""
            },
            "colorscale": [
             [
              0,
              "#0d0887"
             ],
             [
              0.1111111111111111,
              "#46039f"
             ],
             [
              0.2222222222222222,
              "#7201a8"
             ],
             [
              0.3333333333333333,
              "#9c179e"
             ],
             [
              0.4444444444444444,
              "#bd3786"
             ],
             [
              0.5555555555555556,
              "#d8576b"
             ],
             [
              0.6666666666666666,
              "#ed7953"
             ],
             [
              0.7777777777777778,
              "#fb9f3a"
             ],
             [
              0.8888888888888888,
              "#fdca26"
             ],
             [
              1,
              "#f0f921"
             ]
            ],
            "type": "surface"
           }
          ],
          "table": [
           {
            "cells": {
             "fill": {
              "color": "#EBF0F8"
             },
             "line": {
              "color": "white"
             }
            },
            "header": {
             "fill": {
              "color": "#C8D4E3"
             },
             "line": {
              "color": "white"
             }
            },
            "type": "table"
           }
          ]
         },
         "layout": {
          "annotationdefaults": {
           "arrowcolor": "#2a3f5f",
           "arrowhead": 0,
           "arrowwidth": 1
          },
          "autotypenumbers": "strict",
          "coloraxis": {
           "colorbar": {
            "outlinewidth": 0,
            "ticks": ""
           }
          },
          "colorscale": {
           "diverging": [
            [
             0,
             "#8e0152"
            ],
            [
             0.1,
             "#c51b7d"
            ],
            [
             0.2,
             "#de77ae"
            ],
            [
             0.3,
             "#f1b6da"
            ],
            [
             0.4,
             "#fde0ef"
            ],
            [
             0.5,
             "#f7f7f7"
            ],
            [
             0.6,
             "#e6f5d0"
            ],
            [
             0.7,
             "#b8e186"
            ],
            [
             0.8,
             "#7fbc41"
            ],
            [
             0.9,
             "#4d9221"
            ],
            [
             1,
             "#276419"
            ]
           ],
           "sequential": [
            [
             0,
             "#0d0887"
            ],
            [
             0.1111111111111111,
             "#46039f"
            ],
            [
             0.2222222222222222,
             "#7201a8"
            ],
            [
             0.3333333333333333,
             "#9c179e"
            ],
            [
             0.4444444444444444,
             "#bd3786"
            ],
            [
             0.5555555555555556,
             "#d8576b"
            ],
            [
             0.6666666666666666,
             "#ed7953"
            ],
            [
             0.7777777777777778,
             "#fb9f3a"
            ],
            [
             0.8888888888888888,
             "#fdca26"
            ],
            [
             1,
             "#f0f921"
            ]
           ],
           "sequentialminus": [
            [
             0,
             "#0d0887"
            ],
            [
             0.1111111111111111,
             "#46039f"
            ],
            [
             0.2222222222222222,
             "#7201a8"
            ],
            [
             0.3333333333333333,
             "#9c179e"
            ],
            [
             0.4444444444444444,
             "#bd3786"
            ],
            [
             0.5555555555555556,
             "#d8576b"
            ],
            [
             0.6666666666666666,
             "#ed7953"
            ],
            [
             0.7777777777777778,
             "#fb9f3a"
            ],
            [
             0.8888888888888888,
             "#fdca26"
            ],
            [
             1,
             "#f0f921"
            ]
           ]
          },
          "colorway": [
           "#636efa",
           "#EF553B",
           "#00cc96",
           "#ab63fa",
           "#FFA15A",
           "#19d3f3",
           "#FF6692",
           "#B6E880",
           "#FF97FF",
           "#FECB52"
          ],
          "font": {
           "color": "#2a3f5f"
          },
          "geo": {
           "bgcolor": "white",
           "lakecolor": "white",
           "landcolor": "#E5ECF6",
           "showlakes": true,
           "showland": true,
           "subunitcolor": "white"
          },
          "hoverlabel": {
           "align": "left"
          },
          "hovermode": "closest",
          "mapbox": {
           "style": "light"
          },
          "paper_bgcolor": "white",
          "plot_bgcolor": "#E5ECF6",
          "polar": {
           "angularaxis": {
            "gridcolor": "white",
            "linecolor": "white",
            "ticks": ""
           },
           "bgcolor": "#E5ECF6",
           "radialaxis": {
            "gridcolor": "white",
            "linecolor": "white",
            "ticks": ""
           }
          },
          "scene": {
           "xaxis": {
            "backgroundcolor": "#E5ECF6",
            "gridcolor": "white",
            "gridwidth": 2,
            "linecolor": "white",
            "showbackground": true,
            "ticks": "",
            "zerolinecolor": "white"
           },
           "yaxis": {
            "backgroundcolor": "#E5ECF6",
            "gridcolor": "white",
            "gridwidth": 2,
            "linecolor": "white",
            "showbackground": true,
            "ticks": "",
            "zerolinecolor": "white"
           },
           "zaxis": {
            "backgroundcolor": "#E5ECF6",
            "gridcolor": "white",
            "gridwidth": 2,
            "linecolor": "white",
            "showbackground": true,
            "ticks": "",
            "zerolinecolor": "white"
           }
          },
          "shapedefaults": {
           "line": {
            "color": "#2a3f5f"
           }
          },
          "ternary": {
           "aaxis": {
            "gridcolor": "white",
            "linecolor": "white",
            "ticks": ""
           },
           "baxis": {
            "gridcolor": "white",
            "linecolor": "white",
            "ticks": ""
           },
           "bgcolor": "#E5ECF6",
           "caxis": {
            "gridcolor": "white",
            "linecolor": "white",
            "ticks": ""
           }
          },
          "title": {
           "x": 0.05
          },
          "xaxis": {
           "automargin": true,
           "gridcolor": "white",
           "linecolor": "white",
           "ticks": "",
           "title": {
            "standoff": 15
           },
           "zerolinecolor": "white",
           "zerolinewidth": 2
          },
          "yaxis": {
           "automargin": true,
           "gridcolor": "white",
           "linecolor": "white",
           "ticks": "",
           "title": {
            "standoff": 15
           },
           "zerolinecolor": "white",
           "zerolinewidth": 2
          }
         }
        },
        "xaxis": {
         "anchor": "y",
         "domain": [
          0,
          1
         ],
         "title": {
          "text": "country"
         }
        },
        "yaxis": {
         "anchor": "x",
         "domain": [
          0,
          1
         ],
         "title": {
          "text": "title"
         }
        }
       }
      },
      "text/html": [
       "<div>                            <div id=\"dc2ed536-645d-4bef-b381-8a847c41d5dc\" class=\"plotly-graph-div\" style=\"height:525px; width:100%;\"></div>            <script type=\"text/javascript\">                require([\"plotly\"], function(Plotly) {                    window.PLOTLYENV=window.PLOTLYENV || {};                                    if (document.getElementById(\"dc2ed536-645d-4bef-b381-8a847c41d5dc\")) {                    Plotly.newPlot(                        \"dc2ed536-645d-4bef-b381-8a847c41d5dc\",                        [{\"alignmentgroup\": \"True\", \"hovertemplate\": \"type=Movie<br>country=%{x}<br>title=%{y}<extra></extra>\", \"legendgroup\": \"Movie\", \"marker\": {\"color\": \"#636efa\"}, \"name\": \"Movie\", \"offsetgroup\": \"Movie\", \"orientation\": \"v\", \"showlegend\": true, \"textposition\": \"auto\", \"type\": \"bar\", \"x\": [\"United States\", \"Multiple\", \"India\", \"United Kingdom\", \"Canada\", \"Egypt\", \"Spain\", \"Turkey\", \"Philippines\", \"Indonesia\", \"Japan\", \"France\", \"Nigeria\", \"Mexico\", \"Hong Kong\", \"Brazil\", \"Germany\", \"South Korea\", \"Thailand\", \"Australia\", \"Argentina\"], \"xaxis\": \"x\", \"y\": [1667, 847, 837, 163, 106, 88, 77, 73, 70, 67, 67, 63, 61, 59, 49, 40, 37, 35, 34, 33, 31], \"yaxis\": \"y\"}, {\"alignmentgroup\": \"True\", \"hovertemplate\": \"type=TV Show<br>country=%{x}<br>title=%{y}<extra></extra>\", \"legendgroup\": \"TV Show\", \"marker\": {\"color\": \"#EF553B\"}, \"name\": \"TV Show\", \"offsetgroup\": \"TV Show\", \"orientation\": \"v\", \"showlegend\": true, \"textposition\": \"auto\", \"type\": \"bar\", \"x\": [\"United States\", \"Multiple\", \"United Kingdom\", \"Japan\", \"South Korea\", \"Taiwan\", \"India\", \"Canada\", \"Spain\", \"Australia\", \"France\", \"China\", \"Mexico\"], \"xaxis\": \"x\", \"y\": [575, 208, 168, 153, 145, 68, 57, 53, 40, 39, 36, 36, 33], \"yaxis\": \"y\"}],                        {\"barmode\": \"relative\", \"legend\": {\"title\": {\"text\": \"type\"}, \"tracegroupgap\": 0}, \"margin\": {\"t\": 60}, \"template\": {\"data\": {\"bar\": [{\"error_x\": {\"color\": \"#2a3f5f\"}, \"error_y\": {\"color\": \"#2a3f5f\"}, \"marker\": {\"line\": {\"color\": \"#E5ECF6\", \"width\": 0.5}}, \"type\": \"bar\"}], \"barpolar\": [{\"marker\": {\"line\": {\"color\": \"#E5ECF6\", \"width\": 0.5}}, \"type\": \"barpolar\"}], \"carpet\": [{\"aaxis\": {\"endlinecolor\": \"#2a3f5f\", \"gridcolor\": \"white\", \"linecolor\": \"white\", \"minorgridcolor\": \"white\", \"startlinecolor\": \"#2a3f5f\"}, \"baxis\": {\"endlinecolor\": \"#2a3f5f\", \"gridcolor\": \"white\", \"linecolor\": \"white\", \"minorgridcolor\": \"white\", \"startlinecolor\": \"#2a3f5f\"}, \"type\": \"carpet\"}], \"choropleth\": [{\"colorbar\": {\"outlinewidth\": 0, \"ticks\": \"\"}, \"type\": \"choropleth\"}], \"contour\": [{\"colorbar\": {\"outlinewidth\": 0, \"ticks\": \"\"}, \"colorscale\": [[0.0, \"#0d0887\"], [0.1111111111111111, \"#46039f\"], [0.2222222222222222, \"#7201a8\"], [0.3333333333333333, \"#9c179e\"], [0.4444444444444444, \"#bd3786\"], [0.5555555555555556, \"#d8576b\"], [0.6666666666666666, \"#ed7953\"], [0.7777777777777778, \"#fb9f3a\"], [0.8888888888888888, \"#fdca26\"], [1.0, \"#f0f921\"]], \"type\": \"contour\"}], \"contourcarpet\": [{\"colorbar\": {\"outlinewidth\": 0, \"ticks\": \"\"}, \"type\": \"contourcarpet\"}], \"heatmap\": [{\"colorbar\": {\"outlinewidth\": 0, \"ticks\": \"\"}, \"colorscale\": [[0.0, \"#0d0887\"], [0.1111111111111111, \"#46039f\"], [0.2222222222222222, \"#7201a8\"], [0.3333333333333333, \"#9c179e\"], [0.4444444444444444, \"#bd3786\"], [0.5555555555555556, \"#d8576b\"], [0.6666666666666666, \"#ed7953\"], [0.7777777777777778, \"#fb9f3a\"], [0.8888888888888888, \"#fdca26\"], [1.0, \"#f0f921\"]], \"type\": \"heatmap\"}], \"heatmapgl\": [{\"colorbar\": {\"outlinewidth\": 0, \"ticks\": \"\"}, \"colorscale\": [[0.0, \"#0d0887\"], [0.1111111111111111, \"#46039f\"], [0.2222222222222222, \"#7201a8\"], [0.3333333333333333, \"#9c179e\"], [0.4444444444444444, \"#bd3786\"], [0.5555555555555556, \"#d8576b\"], [0.6666666666666666, \"#ed7953\"], [0.7777777777777778, \"#fb9f3a\"], [0.8888888888888888, \"#fdca26\"], [1.0, \"#f0f921\"]], \"type\": \"heatmapgl\"}], \"histogram\": [{\"marker\": {\"colorbar\": {\"outlinewidth\": 0, \"ticks\": \"\"}}, \"type\": \"histogram\"}], \"histogram2d\": [{\"colorbar\": {\"outlinewidth\": 0, \"ticks\": \"\"}, \"colorscale\": [[0.0, \"#0d0887\"], [0.1111111111111111, \"#46039f\"], [0.2222222222222222, \"#7201a8\"], [0.3333333333333333, \"#9c179e\"], [0.4444444444444444, \"#bd3786\"], [0.5555555555555556, \"#d8576b\"], [0.6666666666666666, \"#ed7953\"], [0.7777777777777778, \"#fb9f3a\"], [0.8888888888888888, \"#fdca26\"], [1.0, \"#f0f921\"]], \"type\": \"histogram2d\"}], \"histogram2dcontour\": [{\"colorbar\": {\"outlinewidth\": 0, \"ticks\": \"\"}, \"colorscale\": [[0.0, \"#0d0887\"], [0.1111111111111111, \"#46039f\"], [0.2222222222222222, \"#7201a8\"], [0.3333333333333333, \"#9c179e\"], [0.4444444444444444, \"#bd3786\"], [0.5555555555555556, \"#d8576b\"], [0.6666666666666666, \"#ed7953\"], [0.7777777777777778, \"#fb9f3a\"], [0.8888888888888888, \"#fdca26\"], [1.0, \"#f0f921\"]], \"type\": \"histogram2dcontour\"}], \"mesh3d\": [{\"colorbar\": {\"outlinewidth\": 0, \"ticks\": \"\"}, \"type\": \"mesh3d\"}], \"parcoords\": [{\"line\": {\"colorbar\": {\"outlinewidth\": 0, \"ticks\": \"\"}}, \"type\": \"parcoords\"}], \"pie\": [{\"automargin\": true, \"type\": \"pie\"}], \"scatter\": [{\"marker\": {\"colorbar\": {\"outlinewidth\": 0, \"ticks\": \"\"}}, \"type\": \"scatter\"}], \"scatter3d\": [{\"line\": {\"colorbar\": {\"outlinewidth\": 0, \"ticks\": \"\"}}, \"marker\": {\"colorbar\": {\"outlinewidth\": 0, \"ticks\": \"\"}}, \"type\": \"scatter3d\"}], \"scattercarpet\": [{\"marker\": {\"colorbar\": {\"outlinewidth\": 0, \"ticks\": \"\"}}, \"type\": \"scattercarpet\"}], \"scattergeo\": [{\"marker\": {\"colorbar\": {\"outlinewidth\": 0, \"ticks\": \"\"}}, \"type\": \"scattergeo\"}], \"scattergl\": [{\"marker\": {\"colorbar\": {\"outlinewidth\": 0, \"ticks\": \"\"}}, \"type\": \"scattergl\"}], \"scattermapbox\": [{\"marker\": {\"colorbar\": {\"outlinewidth\": 0, \"ticks\": \"\"}}, \"type\": \"scattermapbox\"}], \"scatterpolar\": [{\"marker\": {\"colorbar\": {\"outlinewidth\": 0, \"ticks\": \"\"}}, \"type\": \"scatterpolar\"}], \"scatterpolargl\": [{\"marker\": {\"colorbar\": {\"outlinewidth\": 0, \"ticks\": \"\"}}, \"type\": \"scatterpolargl\"}], \"scatterternary\": [{\"marker\": {\"colorbar\": {\"outlinewidth\": 0, \"ticks\": \"\"}}, \"type\": \"scatterternary\"}], \"surface\": [{\"colorbar\": {\"outlinewidth\": 0, \"ticks\": \"\"}, \"colorscale\": [[0.0, \"#0d0887\"], [0.1111111111111111, \"#46039f\"], [0.2222222222222222, \"#7201a8\"], [0.3333333333333333, \"#9c179e\"], [0.4444444444444444, \"#bd3786\"], [0.5555555555555556, \"#d8576b\"], [0.6666666666666666, \"#ed7953\"], [0.7777777777777778, \"#fb9f3a\"], [0.8888888888888888, \"#fdca26\"], [1.0, \"#f0f921\"]], \"type\": \"surface\"}], \"table\": [{\"cells\": {\"fill\": {\"color\": \"#EBF0F8\"}, \"line\": {\"color\": \"white\"}}, \"header\": {\"fill\": {\"color\": \"#C8D4E3\"}, \"line\": {\"color\": \"white\"}}, \"type\": \"table\"}]}, \"layout\": {\"annotationdefaults\": {\"arrowcolor\": \"#2a3f5f\", \"arrowhead\": 0, \"arrowwidth\": 1}, \"autotypenumbers\": \"strict\", \"coloraxis\": {\"colorbar\": {\"outlinewidth\": 0, \"ticks\": \"\"}}, \"colorscale\": {\"diverging\": [[0, \"#8e0152\"], [0.1, \"#c51b7d\"], [0.2, \"#de77ae\"], [0.3, \"#f1b6da\"], [0.4, \"#fde0ef\"], [0.5, \"#f7f7f7\"], [0.6, \"#e6f5d0\"], [0.7, \"#b8e186\"], [0.8, \"#7fbc41\"], [0.9, \"#4d9221\"], [1, \"#276419\"]], \"sequential\": [[0.0, \"#0d0887\"], [0.1111111111111111, \"#46039f\"], [0.2222222222222222, \"#7201a8\"], [0.3333333333333333, \"#9c179e\"], [0.4444444444444444, \"#bd3786\"], [0.5555555555555556, \"#d8576b\"], [0.6666666666666666, \"#ed7953\"], [0.7777777777777778, \"#fb9f3a\"], [0.8888888888888888, \"#fdca26\"], [1.0, \"#f0f921\"]], \"sequentialminus\": [[0.0, \"#0d0887\"], [0.1111111111111111, \"#46039f\"], [0.2222222222222222, \"#7201a8\"], [0.3333333333333333, \"#9c179e\"], [0.4444444444444444, \"#bd3786\"], [0.5555555555555556, \"#d8576b\"], [0.6666666666666666, \"#ed7953\"], [0.7777777777777778, \"#fb9f3a\"], [0.8888888888888888, \"#fdca26\"], [1.0, \"#f0f921\"]]}, \"colorway\": [\"#636efa\", \"#EF553B\", \"#00cc96\", \"#ab63fa\", \"#FFA15A\", \"#19d3f3\", \"#FF6692\", \"#B6E880\", \"#FF97FF\", \"#FECB52\"], \"font\": {\"color\": \"#2a3f5f\"}, \"geo\": {\"bgcolor\": \"white\", \"lakecolor\": \"white\", \"landcolor\": \"#E5ECF6\", \"showlakes\": true, \"showland\": true, \"subunitcolor\": \"white\"}, \"hoverlabel\": {\"align\": \"left\"}, \"hovermode\": \"closest\", \"mapbox\": {\"style\": \"light\"}, \"paper_bgcolor\": \"white\", \"plot_bgcolor\": \"#E5ECF6\", \"polar\": {\"angularaxis\": {\"gridcolor\": \"white\", \"linecolor\": \"white\", \"ticks\": \"\"}, \"bgcolor\": \"#E5ECF6\", \"radialaxis\": {\"gridcolor\": \"white\", \"linecolor\": \"white\", \"ticks\": \"\"}}, \"scene\": {\"xaxis\": {\"backgroundcolor\": \"#E5ECF6\", \"gridcolor\": \"white\", \"gridwidth\": 2, \"linecolor\": \"white\", \"showbackground\": true, \"ticks\": \"\", \"zerolinecolor\": \"white\"}, \"yaxis\": {\"backgroundcolor\": \"#E5ECF6\", \"gridcolor\": \"white\", \"gridwidth\": 2, \"linecolor\": \"white\", \"showbackground\": true, \"ticks\": \"\", \"zerolinecolor\": \"white\"}, \"zaxis\": {\"backgroundcolor\": \"#E5ECF6\", \"gridcolor\": \"white\", \"gridwidth\": 2, \"linecolor\": \"white\", \"showbackground\": true, \"ticks\": \"\", \"zerolinecolor\": \"white\"}}, \"shapedefaults\": {\"line\": {\"color\": \"#2a3f5f\"}}, \"ternary\": {\"aaxis\": {\"gridcolor\": \"white\", \"linecolor\": \"white\", \"ticks\": \"\"}, \"baxis\": {\"gridcolor\": \"white\", \"linecolor\": \"white\", \"ticks\": \"\"}, \"bgcolor\": \"#E5ECF6\", \"caxis\": {\"gridcolor\": \"white\", \"linecolor\": \"white\", \"ticks\": \"\"}}, \"title\": {\"x\": 0.05}, \"xaxis\": {\"automargin\": true, \"gridcolor\": \"white\", \"linecolor\": \"white\", \"ticks\": \"\", \"title\": {\"standoff\": 15}, \"zerolinecolor\": \"white\", \"zerolinewidth\": 2}, \"yaxis\": {\"automargin\": true, \"gridcolor\": \"white\", \"linecolor\": \"white\", \"ticks\": \"\", \"title\": {\"standoff\": 15}, \"zerolinecolor\": \"white\", \"zerolinewidth\": 2}}}, \"xaxis\": {\"anchor\": \"y\", \"domain\": [0.0, 1.0], \"title\": {\"text\": \"country\"}}, \"yaxis\": {\"anchor\": \"x\", \"domain\": [0.0, 1.0], \"title\": {\"text\": \"title\"}}},                        {\"responsive\": true}                    ).then(function(){\n",
       "                            \n",
       "var gd = document.getElementById('dc2ed536-645d-4bef-b381-8a847c41d5dc');\n",
       "var x = new MutationObserver(function (mutations, observer) {{\n",
       "        var display = window.getComputedStyle(gd).display;\n",
       "        if (!display || display === 'none') {{\n",
       "            console.log([gd, 'removed!']);\n",
       "            Plotly.purge(gd);\n",
       "            observer.disconnect();\n",
       "        }}\n",
       "}});\n",
       "\n",
       "// Listen for the removal of the full notebook cells\n",
       "var notebookContainer = gd.closest('#notebook-container');\n",
       "if (notebookContainer) {{\n",
       "    x.observe(notebookContainer, {childList: true});\n",
       "}}\n",
       "\n",
       "// Listen for the clearing of the current output cell\n",
       "var outputEl = gd.closest('.output');\n",
       "if (outputEl) {{\n",
       "    x.observe(outputEl, {childList: true});\n",
       "}}\n",
       "\n",
       "                        })                };                });            </script>        </div>"
      ]
     },
     "metadata": {},
     "output_type": "display_data"
    }
   ],
   "source": [
    "fig = px.bar(cat_country.loc[cat_country.title > 30], x='country', y='title', color=\"type\")\n",
    "fig.show()"
   ]
  },
  {
   "cell_type": "code",
   "execution_count": 61,
   "id": "violent-english",
   "metadata": {},
   "outputs": [
    {
     "data": {
      "text/html": [
       "<div>\n",
       "<style scoped>\n",
       "    .dataframe tbody tr th:only-of-type {\n",
       "        vertical-align: middle;\n",
       "    }\n",
       "\n",
       "    .dataframe tbody tr th {\n",
       "        vertical-align: top;\n",
       "    }\n",
       "\n",
       "    .dataframe thead th {\n",
       "        text-align: right;\n",
       "    }\n",
       "</style>\n",
       "<table border=\"1\" class=\"dataframe\">\n",
       "  <thead>\n",
       "    <tr style=\"text-align: right;\">\n",
       "      <th></th>\n",
       "      <th>show_id</th>\n",
       "      <th>type</th>\n",
       "      <th>title</th>\n",
       "      <th>cast</th>\n",
       "      <th>country</th>\n",
       "      <th>date_added</th>\n",
       "      <th>release_year</th>\n",
       "      <th>rating</th>\n",
       "      <th>duration</th>\n",
       "      <th>listed_in</th>\n",
       "      <th>description</th>\n",
       "    </tr>\n",
       "  </thead>\n",
       "  <tbody>\n",
       "    <tr>\n",
       "      <th>102</th>\n",
       "      <td>s103</td>\n",
       "      <td>Movie</td>\n",
       "      <td>3 Türken &amp; ein Baby</td>\n",
       "      <td>Kostja Ullmann, Eko Fresh, Kida Khodr Ramadan,...</td>\n",
       "      <td>Germany</td>\n",
       "      <td>2016-12-15</td>\n",
       "      <td>2015</td>\n",
       "      <td>TV-MA</td>\n",
       "      <td>93 min</td>\n",
       "      <td>Comedies, International Movies</td>\n",
       "      <td>The lives of three dissatisfied brothers runni...</td>\n",
       "    </tr>\n",
       "    <tr>\n",
       "      <th>185</th>\n",
       "      <td>s186</td>\n",
       "      <td>Movie</td>\n",
       "      <td>A Heavy Heart</td>\n",
       "      <td>Peter Kurth, Lena Lauzemis, Lina Wendel, Edin ...</td>\n",
       "      <td>Germany</td>\n",
       "      <td>2017-02-15</td>\n",
       "      <td>2015</td>\n",
       "      <td>TV-MA</td>\n",
       "      <td>109 min</td>\n",
       "      <td>Dramas, Independent Movies, International Movies</td>\n",
       "      <td>Long past his heyday, a still-virile boxer tri...</td>\n",
       "    </tr>\n",
       "    <tr>\n",
       "      <th>424</th>\n",
       "      <td>s425</td>\n",
       "      <td>Movie</td>\n",
       "      <td>Alles ist gut</td>\n",
       "      <td>Aenne Schwarz, Andreas Döhler, Hans Löw, Tilo ...</td>\n",
       "      <td>Germany</td>\n",
       "      <td>2019-06-06</td>\n",
       "      <td>2019</td>\n",
       "      <td>TV-MA</td>\n",
       "      <td>90 min</td>\n",
       "      <td>Dramas, International Movies</td>\n",
       "      <td>A woman sexually assaulted by her new boss's b...</td>\n",
       "    </tr>\n",
       "    <tr>\n",
       "      <th>672</th>\n",
       "      <td>s673</td>\n",
       "      <td>TV Show</td>\n",
       "      <td>Babylon Berlin</td>\n",
       "      <td>Volker Bruch, Liv Lisa Fries, Peter Kurth, Leo...</td>\n",
       "      <td>Germany</td>\n",
       "      <td>2020-03-01</td>\n",
       "      <td>2020</td>\n",
       "      <td>TV-MA</td>\n",
       "      <td>3 Seasons</td>\n",
       "      <td>Crime TV Shows, International TV Shows, TV Dramas</td>\n",
       "      <td>A Soviet freight train's hijacking leads a hau...</td>\n",
       "    </tr>\n",
       "    <tr>\n",
       "      <th>731</th>\n",
       "      <td>s732</td>\n",
       "      <td>TV Show</td>\n",
       "      <td>Barbarians</td>\n",
       "      <td>Laurence Rupp, Jeanne Goursaud, David Schütter...</td>\n",
       "      <td>Germany</td>\n",
       "      <td>2020-10-23</td>\n",
       "      <td>2020</td>\n",
       "      <td>TV-MA</td>\n",
       "      <td>1 Season</td>\n",
       "      <td>International TV Shows, TV Action &amp; Adventure,...</td>\n",
       "      <td>Torn between the mighty empire that raised him...</td>\n",
       "    </tr>\n",
       "    <tr>\n",
       "      <th>838</th>\n",
       "      <td>s839</td>\n",
       "      <td>Movie</td>\n",
       "      <td>Berlin Calling</td>\n",
       "      <td>Paul Kalkbrenner, Rita Lengyel, Corinna Harfou...</td>\n",
       "      <td>Germany</td>\n",
       "      <td>2017-01-15</td>\n",
       "      <td>2008</td>\n",
       "      <td>TV-MA</td>\n",
       "      <td>105 min</td>\n",
       "      <td>Dramas, International Movies, Music &amp; Musicals</td>\n",
       "      <td>DJ Ickarus is at the top of his game, dazzling...</td>\n",
       "    </tr>\n",
       "    <tr>\n",
       "      <th>841</th>\n",
       "      <td>s842</td>\n",
       "      <td>Movie</td>\n",
       "      <td>Berlin, Berlin: Lolle on the Run</td>\n",
       "      <td>Felicitas Woll, Janina Uhse, Jan Sosniok, Matt...</td>\n",
       "      <td>Germany</td>\n",
       "      <td>2020-08-07</td>\n",
       "      <td>2020</td>\n",
       "      <td>TV-MA</td>\n",
       "      <td>82 min</td>\n",
       "      <td>Comedies, International Movies</td>\n",
       "      <td>In this cinematic sequel to the hit TV series,...</td>\n",
       "    </tr>\n",
       "    <tr>\n",
       "      <th>894</th>\n",
       "      <td>s895</td>\n",
       "      <td>Movie</td>\n",
       "      <td>Bibi &amp; Tina</td>\n",
       "      <td>Lina Larissa Strahl, Lisa-Marie Koroll, Louis ...</td>\n",
       "      <td>Germany</td>\n",
       "      <td>2017-04-15</td>\n",
       "      <td>2014</td>\n",
       "      <td>TV-PG</td>\n",
       "      <td>97 min</td>\n",
       "      <td>Children &amp; Family Movies, Music &amp; Musicals</td>\n",
       "      <td>Teen witch Bibi and horse-loving Tina face tro...</td>\n",
       "    </tr>\n",
       "    <tr>\n",
       "      <th>895</th>\n",
       "      <td>s896</td>\n",
       "      <td>Movie</td>\n",
       "      <td>Bibi &amp; Tina II</td>\n",
       "      <td>Lina Larissa Strahl, Lisa-Marie Koroll, Louis ...</td>\n",
       "      <td>Germany</td>\n",
       "      <td>2017-04-15</td>\n",
       "      <td>2014</td>\n",
       "      <td>TV-14</td>\n",
       "      <td>105 min</td>\n",
       "      <td>Children &amp; Family Movies, Music &amp; Musicals</td>\n",
       "      <td>When robbers hit Falkenstein castle, teen witc...</td>\n",
       "    </tr>\n",
       "    <tr>\n",
       "      <th>896</th>\n",
       "      <td>s897</td>\n",
       "      <td>Movie</td>\n",
       "      <td>Bibi &amp; Tina: Girls Versus Boys</td>\n",
       "      <td>Lina Larissa Strahl, Lisa-Marie Koroll, Tilman...</td>\n",
       "      <td>Germany</td>\n",
       "      <td>2017-04-15</td>\n",
       "      <td>2016</td>\n",
       "      <td>TV-14</td>\n",
       "      <td>107 min</td>\n",
       "      <td>Children &amp; Family Movies, Music &amp; Musicals</td>\n",
       "      <td>At summer camp, young Bibi and her friends are...</td>\n",
       "    </tr>\n",
       "    <tr>\n",
       "      <th>897</th>\n",
       "      <td>s898</td>\n",
       "      <td>Movie</td>\n",
       "      <td>Bibi &amp; Tina: Tohuwabohu Total</td>\n",
       "      <td>Lina Larissa Strahl, Lisa-Marie Koroll, Louis ...</td>\n",
       "      <td>Germany</td>\n",
       "      <td>2017-12-27</td>\n",
       "      <td>2017</td>\n",
       "      <td>TV-14</td>\n",
       "      <td>106 min</td>\n",
       "      <td>Children &amp; Family Movies, Music &amp; Musicals</td>\n",
       "      <td>Teen witch Bibi and her pal Tina return to the...</td>\n",
       "    </tr>\n",
       "    <tr>\n",
       "      <th>931</th>\n",
       "      <td>s932</td>\n",
       "      <td>TV Show</td>\n",
       "      <td>Biohackers</td>\n",
       "      <td>Luna Wedler, Jessica Schwarz, Adrian Julius Ti...</td>\n",
       "      <td>Germany</td>\n",
       "      <td>2020-08-20</td>\n",
       "      <td>2020</td>\n",
       "      <td>TV-MA</td>\n",
       "      <td>1 Season</td>\n",
       "      <td>International TV Shows, TV Dramas, TV Sci-Fi &amp;...</td>\n",
       "      <td>A medical student enters a top German universi...</td>\n",
       "    </tr>\n",
       "    <tr>\n",
       "      <th>1277</th>\n",
       "      <td>s1278</td>\n",
       "      <td>TV Show</td>\n",
       "      <td>Charité</td>\n",
       "      <td>Alicia von Rittberg, Maximilian Meyer-Bretschn...</td>\n",
       "      <td>Germany</td>\n",
       "      <td>2018-04-19</td>\n",
       "      <td>2017</td>\n",
       "      <td>TV-MA</td>\n",
       "      <td>1 Season</td>\n",
       "      <td>International TV Shows, TV Dramas</td>\n",
       "      <td>At Berlin's Charité hospital in 1888, Ida find...</td>\n",
       "    </tr>\n",
       "    <tr>\n",
       "      <th>1363</th>\n",
       "      <td>s1364</td>\n",
       "      <td>Movie</td>\n",
       "      <td>Christmas Crossfire</td>\n",
       "      <td>Kostja Ullmann, Alli Neumann, Sascha Alexander...</td>\n",
       "      <td>Germany</td>\n",
       "      <td>2020-12-04</td>\n",
       "      <td>2020</td>\n",
       "      <td>TV-MA</td>\n",
       "      <td>106 min</td>\n",
       "      <td>Comedies, International Movies, Thrillers</td>\n",
       "      <td>A man foils an attempted murder, then flees th...</td>\n",
       "    </tr>\n",
       "    <tr>\n",
       "      <th>1539</th>\n",
       "      <td>s1540</td>\n",
       "      <td>TV Show</td>\n",
       "      <td>Criminal: Germany</td>\n",
       "      <td>Eva Meckbach, Sylvester Groth, Florence Kasumb...</td>\n",
       "      <td>Germany</td>\n",
       "      <td>2019-09-20</td>\n",
       "      <td>2019</td>\n",
       "      <td>TV-MA</td>\n",
       "      <td>1 Season</td>\n",
       "      <td>Crime TV Shows, International TV Shows, TV Dramas</td>\n",
       "      <td>In the interview room, detectives go head-to-h...</td>\n",
       "    </tr>\n",
       "    <tr>\n",
       "      <th>1592</th>\n",
       "      <td>s1593</td>\n",
       "      <td>Movie</td>\n",
       "      <td>Dancing Quietly</td>\n",
       "      <td>Martina Schöne-Radunski, Hans-Heinrich Hardt, ...</td>\n",
       "      <td>Germany</td>\n",
       "      <td>2017-04-01</td>\n",
       "      <td>2016</td>\n",
       "      <td>TV-MA</td>\n",
       "      <td>70 min</td>\n",
       "      <td>Dramas, Independent Movies, International Movies</td>\n",
       "      <td>After years of battling a deep depression, a y...</td>\n",
       "    </tr>\n",
       "    <tr>\n",
       "      <th>1753</th>\n",
       "      <td>s1754</td>\n",
       "      <td>Movie</td>\n",
       "      <td>Dieter Nuhr: Nuhr in Berlin</td>\n",
       "      <td>Dieter Nuhr</td>\n",
       "      <td>Germany</td>\n",
       "      <td>2016-11-15</td>\n",
       "      <td>2016</td>\n",
       "      <td>TV-MA</td>\n",
       "      <td>69 min</td>\n",
       "      <td>Stand-Up Comedy</td>\n",
       "      <td>The cerebral and popular German cabaret comic ...</td>\n",
       "    </tr>\n",
       "    <tr>\n",
       "      <th>1797</th>\n",
       "      <td>s1798</td>\n",
       "      <td>TV Show</td>\n",
       "      <td>Dogs of Berlin</td>\n",
       "      <td>Felix Kramer, Fahri Yardim, Anna Maria Mühe, K...</td>\n",
       "      <td>Germany</td>\n",
       "      <td>2018-12-07</td>\n",
       "      <td>2018</td>\n",
       "      <td>TV-MA</td>\n",
       "      <td>1 Season</td>\n",
       "      <td>Crime TV Shows, International TV Shows, TV Dramas</td>\n",
       "      <td>Two cops investigate the murder of a famous Tu...</td>\n",
       "    </tr>\n",
       "    <tr>\n",
       "      <th>2007</th>\n",
       "      <td>s2008</td>\n",
       "      <td>Movie</td>\n",
       "      <td>Enissa Amani: Ehrenwort</td>\n",
       "      <td>Enissa Amani</td>\n",
       "      <td>Germany</td>\n",
       "      <td>2018-04-26</td>\n",
       "      <td>2018</td>\n",
       "      <td>TV-MA</td>\n",
       "      <td>66 min</td>\n",
       "      <td>Stand-Up Comedy</td>\n",
       "      <td>Live from Hamburg, Iranian-German comedian Eni...</td>\n",
       "    </tr>\n",
       "    <tr>\n",
       "      <th>2066</th>\n",
       "      <td>s2067</td>\n",
       "      <td>Movie</td>\n",
       "      <td>Expedition Happiness</td>\n",
       "      <td>Selima Taibi, Felix Starck</td>\n",
       "      <td>Germany</td>\n",
       "      <td>2018-01-31</td>\n",
       "      <td>2017</td>\n",
       "      <td>TV-PG</td>\n",
       "      <td>96 min</td>\n",
       "      <td>Documentaries, International Movies</td>\n",
       "      <td>A filmmaker and his musician girlfriend attemp...</td>\n",
       "    </tr>\n",
       "    <tr>\n",
       "      <th>2103</th>\n",
       "      <td>s2104</td>\n",
       "      <td>Movie</td>\n",
       "      <td>Familiye</td>\n",
       "      <td>Kubilay Sarikaya, Arnel Taci, Muhammed Kirtan,...</td>\n",
       "      <td>Germany</td>\n",
       "      <td>2019-05-01</td>\n",
       "      <td>2017</td>\n",
       "      <td>TV-MA</td>\n",
       "      <td>99 min</td>\n",
       "      <td>Dramas, Independent Movies, International Movies</td>\n",
       "      <td>An ex-con struggles to take care of his two br...</td>\n",
       "    </tr>\n",
       "    <tr>\n",
       "      <th>2145</th>\n",
       "      <td>s2146</td>\n",
       "      <td>Movie</td>\n",
       "      <td>Felix Lobrecht: Hype</td>\n",
       "      <td>Felix Lobrecht</td>\n",
       "      <td>Germany</td>\n",
       "      <td>2020-11-03</td>\n",
       "      <td>2020</td>\n",
       "      <td>TV-MA</td>\n",
       "      <td>60 min</td>\n",
       "      <td>Stand-Up Comedy</td>\n",
       "      <td>Felix Lobrecht aims his dark humor at overly p...</td>\n",
       "    </tr>\n",
       "    <tr>\n",
       "      <th>2261</th>\n",
       "      <td>s2262</td>\n",
       "      <td>TV Show</td>\n",
       "      <td>Frank Elstner: Just One Last Question</td>\n",
       "      <td>Klaas Heufer-Umlauf, Joko Winterscheidt, Lena ...</td>\n",
       "      <td>Germany</td>\n",
       "      <td>2020-06-12</td>\n",
       "      <td>2020</td>\n",
       "      <td>TV-MA</td>\n",
       "      <td>1 Season</td>\n",
       "      <td>International TV Shows, Stand-Up Comedy &amp; Talk...</td>\n",
       "      <td>In his farewell show, legendary German host Fr...</td>\n",
       "    </tr>\n",
       "    <tr>\n",
       "      <th>2267</th>\n",
       "      <td>s2268</td>\n",
       "      <td>Movie</td>\n",
       "      <td>Freaks – You're One of Us</td>\n",
       "      <td>Cornelia Gröschel, Tim Oliver Schultz, Wotan W...</td>\n",
       "      <td>Germany</td>\n",
       "      <td>2020-09-02</td>\n",
       "      <td>2020</td>\n",
       "      <td>TV-MA</td>\n",
       "      <td>93 min</td>\n",
       "      <td>Dramas, Independent Movies, International Movies</td>\n",
       "      <td>Tipped by a mysterious tramp, a meek fry cook ...</td>\n",
       "    </tr>\n",
       "    <tr>\n",
       "      <th>2287</th>\n",
       "      <td>s2288</td>\n",
       "      <td>Movie</td>\n",
       "      <td>Friend Request</td>\n",
       "      <td>Alycia Debnam-Carey, William Moseley, Connor P...</td>\n",
       "      <td>Germany</td>\n",
       "      <td>2018-04-18</td>\n",
       "      <td>2016</td>\n",
       "      <td>R</td>\n",
       "      <td>92 min</td>\n",
       "      <td>Horror Movies, International Movies</td>\n",
       "      <td>A popular college student's love of social med...</td>\n",
       "    </tr>\n",
       "    <tr>\n",
       "      <th>2664</th>\n",
       "      <td>s2665</td>\n",
       "      <td>Movie</td>\n",
       "      <td>Hazel Brugger: Tropical</td>\n",
       "      <td>Hazel Brugger</td>\n",
       "      <td>Germany</td>\n",
       "      <td>2020-12-02</td>\n",
       "      <td>2020</td>\n",
       "      <td>TV-MA</td>\n",
       "      <td>58 min</td>\n",
       "      <td>Stand-Up Comedy</td>\n",
       "      <td>In this stand-up special, comedian Hazel Brugg...</td>\n",
       "    </tr>\n",
       "    <tr>\n",
       "      <th>2774</th>\n",
       "      <td>s2775</td>\n",
       "      <td>TV Show</td>\n",
       "      <td>Holiday Secrets</td>\n",
       "      <td>Corinna Harfouch, Christiane Paul, Svenja Jung...</td>\n",
       "      <td>Germany</td>\n",
       "      <td>2019-11-20</td>\n",
       "      <td>2019</td>\n",
       "      <td>TV-MA</td>\n",
       "      <td>1 Season</td>\n",
       "      <td>International TV Shows, TV Dramas</td>\n",
       "      <td>A Christmas reunion becomes a gateway to the p...</td>\n",
       "    </tr>\n",
       "    <tr>\n",
       "      <th>2849</th>\n",
       "      <td>s2850</td>\n",
       "      <td>TV Show</td>\n",
       "      <td>How to Sell Drugs Online (Fast)</td>\n",
       "      <td>Maximilian Mundt, Danilo Kamperidis, Lena Klen...</td>\n",
       "      <td>Germany</td>\n",
       "      <td>2020-07-21</td>\n",
       "      <td>2020</td>\n",
       "      <td>TV-MA</td>\n",
       "      <td>2 Seasons</td>\n",
       "      <td>Crime TV Shows, International TV Shows, TV Com...</td>\n",
       "      <td>To win back his ex-girlfriend, a nerdy teen st...</td>\n",
       "    </tr>\n",
       "    <tr>\n",
       "      <th>3067</th>\n",
       "      <td>s3068</td>\n",
       "      <td>Movie</td>\n",
       "      <td>Isi &amp; Ossi</td>\n",
       "      <td>Lisa Vicari, Dennis Mojen, Walid Al-Atiyat, Ch...</td>\n",
       "      <td>Germany</td>\n",
       "      <td>2020-02-14</td>\n",
       "      <td>2020</td>\n",
       "      <td>TV-MA</td>\n",
       "      <td>113 min</td>\n",
       "      <td>Comedies, International Movies, Romantic Movies</td>\n",
       "      <td>A billionaire's daughter fakes a relationship ...</td>\n",
       "    </tr>\n",
       "    <tr>\n",
       "      <th>3372</th>\n",
       "      <td>s3373</td>\n",
       "      <td>Movie</td>\n",
       "      <td>Kidnapping Stella</td>\n",
       "      <td>Max von der Groeben, Jella Haase, Clemens Schick</td>\n",
       "      <td>Germany</td>\n",
       "      <td>2019-07-12</td>\n",
       "      <td>2019</td>\n",
       "      <td>TV-MA</td>\n",
       "      <td>90 min</td>\n",
       "      <td>Dramas, International Movies, Thrillers</td>\n",
       "      <td>Snatched off the street and held for ransom, a...</td>\n",
       "    </tr>\n",
       "    <tr>\n",
       "      <th>3546</th>\n",
       "      <td>s3547</td>\n",
       "      <td>Movie</td>\n",
       "      <td>Latte and the Magic Waterstone</td>\n",
       "      <td>Ashley Bornancin, Carter Hastings</td>\n",
       "      <td>Germany</td>\n",
       "      <td>2020-07-31</td>\n",
       "      <td>2020</td>\n",
       "      <td>TV-Y</td>\n",
       "      <td>83 min</td>\n",
       "      <td>Children &amp; Family Movies, Comedies</td>\n",
       "      <td>When a greedy bear steals a magic stone to kee...</td>\n",
       "    </tr>\n",
       "    <tr>\n",
       "      <th>3708</th>\n",
       "      <td>s3709</td>\n",
       "      <td>Movie</td>\n",
       "      <td>Lommbock</td>\n",
       "      <td>Lucas Gregorowicz, Moritz Bleibtreu, Louis Hof...</td>\n",
       "      <td>Germany</td>\n",
       "      <td>2018-11-09</td>\n",
       "      <td>2017</td>\n",
       "      <td>TV-MA</td>\n",
       "      <td>106 min</td>\n",
       "      <td>Comedies, International Movies</td>\n",
       "      <td>After finding love in drug-free Dubai, Stefan ...</td>\n",
       "    </tr>\n",
       "    <tr>\n",
       "      <th>3718</th>\n",
       "      <td>s3719</td>\n",
       "      <td>Movie</td>\n",
       "      <td>Look Who's Back</td>\n",
       "      <td>Oliver Masucci, Fabian Busch, Christoph Maria ...</td>\n",
       "      <td>Germany</td>\n",
       "      <td>2016-04-09</td>\n",
       "      <td>2015</td>\n",
       "      <td>NR</td>\n",
       "      <td>116 min</td>\n",
       "      <td>Comedies, International Movies</td>\n",
       "      <td>When Adolf Hitler reawakens at the site of his...</td>\n",
       "    </tr>\n",
       "    <tr>\n",
       "      <th>4319</th>\n",
       "      <td>s4320</td>\n",
       "      <td>Movie</td>\n",
       "      <td>My Fuhrer</td>\n",
       "      <td>Helge Schneider, Ulrich Mühe, Sylvester Groth,...</td>\n",
       "      <td>Germany</td>\n",
       "      <td>2018-05-07</td>\n",
       "      <td>2007</td>\n",
       "      <td>TV-14</td>\n",
       "      <td>91 min</td>\n",
       "      <td>Comedies, International Movies</td>\n",
       "      <td>Germany's most celebrated actor is commissione...</td>\n",
       "    </tr>\n",
       "    <tr>\n",
       "      <th>4388</th>\n",
       "      <td>s4389</td>\n",
       "      <td>TV Show</td>\n",
       "      <td>Nailed It! Germany</td>\n",
       "      <td>Angelina Kirsch, Bernd Siefert</td>\n",
       "      <td>Germany</td>\n",
       "      <td>2020-01-17</td>\n",
       "      <td>2020</td>\n",
       "      <td>TV-14</td>\n",
       "      <td>1 Season</td>\n",
       "      <td>International TV Shows, Reality TV</td>\n",
       "      <td>Home cooks try – and inevitably fail – to re-c...</td>\n",
       "    </tr>\n",
       "    <tr>\n",
       "      <th>4546</th>\n",
       "      <td>s4547</td>\n",
       "      <td>TV Show</td>\n",
       "      <td>NSU German History X</td>\n",
       "      <td>Anna Maria Mühe, Albrecht Schuch, Sebastian Ur...</td>\n",
       "      <td>Germany</td>\n",
       "      <td>2016-07-07</td>\n",
       "      <td>2016</td>\n",
       "      <td>TV-MA</td>\n",
       "      <td>1 Season</td>\n",
       "      <td>Crime TV Shows, International TV Shows, TV Dramas</td>\n",
       "      <td>After German reunification, the neo-Nazi Natio...</td>\n",
       "    </tr>\n",
       "    <tr>\n",
       "      <th>4580</th>\n",
       "      <td>s4581</td>\n",
       "      <td>Movie</td>\n",
       "      <td>Offline - Das leben ist kein bonuslevel</td>\n",
       "      <td>Moritz Jahn, Mala Emde, Ugur Ekeroglu, David S...</td>\n",
       "      <td>Germany</td>\n",
       "      <td>2017-09-01</td>\n",
       "      <td>2016</td>\n",
       "      <td>TV-MA</td>\n",
       "      <td>89 min</td>\n",
       "      <td>Action &amp; Adventure, Comedies, International Mo...</td>\n",
       "      <td>Competitive gamer Jan finds his life thrown fo...</td>\n",
       "    </tr>\n",
       "    <tr>\n",
       "      <th>4711</th>\n",
       "      <td>s4712</td>\n",
       "      <td>TV Show</td>\n",
       "      <td>Over Christmas</td>\n",
       "      <td>Luke Mockridge, Seyneb Saleh, Cristina do Rego...</td>\n",
       "      <td>Germany</td>\n",
       "      <td>2020-11-27</td>\n",
       "      <td>2020</td>\n",
       "      <td>TV-MA</td>\n",
       "      <td>1 Season</td>\n",
       "      <td>International TV Shows, Romantic TV Shows, TV ...</td>\n",
       "      <td>Down-and-out musician Bastian battles the blue...</td>\n",
       "    </tr>\n",
       "    <tr>\n",
       "      <th>4808</th>\n",
       "      <td>s4809</td>\n",
       "      <td>Movie</td>\n",
       "      <td>Pedal the World</td>\n",
       "      <td>Felix Starck</td>\n",
       "      <td>Germany</td>\n",
       "      <td>2018-06-01</td>\n",
       "      <td>2015</td>\n",
       "      <td>TV-MA</td>\n",
       "      <td>85 min</td>\n",
       "      <td>Documentaries, International Movies, Sports Mo...</td>\n",
       "      <td>Over the course of one memorable and adventure...</td>\n",
       "    </tr>\n",
       "    <tr>\n",
       "      <th>4829</th>\n",
       "      <td>s4830</td>\n",
       "      <td>TV Show</td>\n",
       "      <td>Perfume</td>\n",
       "      <td>Friederike Becht, August Diehl, Wotan Wilke Mö...</td>\n",
       "      <td>Germany</td>\n",
       "      <td>2018-12-21</td>\n",
       "      <td>2018</td>\n",
       "      <td>TV-MA</td>\n",
       "      <td>1 Season</td>\n",
       "      <td>Crime TV Shows, International TV Shows, TV Dramas</td>\n",
       "      <td>When a singer is found murdered, with her scen...</td>\n",
       "    </tr>\n",
       "    <tr>\n",
       "      <th>4840</th>\n",
       "      <td>s4841</td>\n",
       "      <td>Movie</td>\n",
       "      <td>Pettersson and Findus 2</td>\n",
       "      <td>Stefan Kurt, Marianne Sägebrecht, Max Herbrechter</td>\n",
       "      <td>Germany</td>\n",
       "      <td>2017-11-01</td>\n",
       "      <td>2016</td>\n",
       "      <td>TV-G</td>\n",
       "      <td>82 min</td>\n",
       "      <td>Children &amp; Family Movies, Comedies</td>\n",
       "      <td>Christmas is just around the corner, but Pette...</td>\n",
       "    </tr>\n",
       "    <tr>\n",
       "      <th>5206</th>\n",
       "      <td>s5207</td>\n",
       "      <td>Movie</td>\n",
       "      <td>Right Here Right Now</td>\n",
       "      <td>Niklas Bruhn, David Schütter, Tinka Furst, Cor...</td>\n",
       "      <td>Germany</td>\n",
       "      <td>2019-06-16</td>\n",
       "      <td>2018</td>\n",
       "      <td>TV-MA</td>\n",
       "      <td>91 min</td>\n",
       "      <td>Comedies, Dramas, Independent Movies</td>\n",
       "      <td>The owner of a failing music club throws one l...</td>\n",
       "    </tr>\n",
       "    <tr>\n",
       "      <th>5220</th>\n",
       "      <td>s5221</td>\n",
       "      <td>Movie</td>\n",
       "      <td>Rising High</td>\n",
       "      <td>David Kross, Frederick Lau, Janina Uhse, Anne ...</td>\n",
       "      <td>Germany</td>\n",
       "      <td>2020-04-17</td>\n",
       "      <td>2020</td>\n",
       "      <td>TV-MA</td>\n",
       "      <td>95 min</td>\n",
       "      <td>Dramas, International Movies</td>\n",
       "      <td>Ready to do anything to get rich, a young man ...</td>\n",
       "    </tr>\n",
       "    <tr>\n",
       "      <th>5241</th>\n",
       "      <td>s5242</td>\n",
       "      <td>Movie</td>\n",
       "      <td>Rock My Heart</td>\n",
       "      <td>Lena Klenke, Dieter Hallervorden, Emilio Sakra...</td>\n",
       "      <td>Germany</td>\n",
       "      <td>2019-06-07</td>\n",
       "      <td>2019</td>\n",
       "      <td>TV-PG</td>\n",
       "      <td>110 min</td>\n",
       "      <td>Children &amp; Family Movies, Dramas, Internationa...</td>\n",
       "      <td>After an adventurous teen with a heart defect ...</td>\n",
       "    </tr>\n",
       "    <tr>\n",
       "      <th>5434</th>\n",
       "      <td>s5435</td>\n",
       "      <td>Movie</td>\n",
       "      <td>Schubert In Love</td>\n",
       "      <td>Olaf Schubert, Mario Adorf, Marie Leuenberger,...</td>\n",
       "      <td>Germany</td>\n",
       "      <td>2018-03-01</td>\n",
       "      <td>2016</td>\n",
       "      <td>TV-14</td>\n",
       "      <td>94 min</td>\n",
       "      <td>Comedies, International Movies</td>\n",
       "      <td>The last of his family line, Olaf Schubert doe...</td>\n",
       "    </tr>\n",
       "    <tr>\n",
       "      <th>5622</th>\n",
       "      <td>s5623</td>\n",
       "      <td>TV Show</td>\n",
       "      <td>Sing On! Germany</td>\n",
       "      <td>Palina Rojinski</td>\n",
       "      <td>Germany</td>\n",
       "      <td>2020-08-07</td>\n",
       "      <td>2020</td>\n",
       "      <td>TV-PG</td>\n",
       "      <td>1 Season</td>\n",
       "      <td>International TV Shows, Reality TV</td>\n",
       "      <td>In this karaoke competition hosted by Palina R...</td>\n",
       "    </tr>\n",
       "    <tr>\n",
       "      <th>5658</th>\n",
       "      <td>s5659</td>\n",
       "      <td>TV Show</td>\n",
       "      <td>Skylines</td>\n",
       "      <td>Edin Hasanovic, Peri Baumeister, Murathan Musl...</td>\n",
       "      <td>Germany</td>\n",
       "      <td>2019-09-27</td>\n",
       "      <td>2019</td>\n",
       "      <td>TV-MA</td>\n",
       "      <td>1 Season</td>\n",
       "      <td>Crime TV Shows, International TV Shows, TV Dramas</td>\n",
       "      <td>A hip-hop producer gets hurled into the violen...</td>\n",
       "    </tr>\n",
       "    <tr>\n",
       "      <th>5813</th>\n",
       "      <td>s5814</td>\n",
       "      <td>Movie</td>\n",
       "      <td>Stereo</td>\n",
       "      <td>Jürgen Vogel, Moritz Bleibtreu, Petra Schmidt-...</td>\n",
       "      <td>Germany</td>\n",
       "      <td>2017-01-15</td>\n",
       "      <td>2014</td>\n",
       "      <td>TV-MA</td>\n",
       "      <td>91 min</td>\n",
       "      <td>International Movies, Thrillers</td>\n",
       "      <td>Erik's peaceful rural family life is shaken by...</td>\n",
       "    </tr>\n",
       "    <tr>\n",
       "      <th>5952</th>\n",
       "      <td>s5953</td>\n",
       "      <td>Movie</td>\n",
       "      <td>System Crasher</td>\n",
       "      <td>Helena Zengel, Albrecht Schuch, Gabriela Maria...</td>\n",
       "      <td>Germany</td>\n",
       "      <td>2020-02-21</td>\n",
       "      <td>2020</td>\n",
       "      <td>TV-MA</td>\n",
       "      <td>120 min</td>\n",
       "      <td>Dramas, Independent Movies, International Movies</td>\n",
       "      <td>Traumatized, violent and yearning for love, 9-...</td>\n",
       "    </tr>\n",
       "    <tr>\n",
       "      <th>6573</th>\n",
       "      <td>s6574</td>\n",
       "      <td>TV Show</td>\n",
       "      <td>The Last Word</td>\n",
       "      <td>Anke Engelke, Thorsten Merten, Nina Gummich, J...</td>\n",
       "      <td>Germany</td>\n",
       "      <td>2020-09-17</td>\n",
       "      <td>2020</td>\n",
       "      <td>TV-MA</td>\n",
       "      <td>1 Season</td>\n",
       "      <td>International TV Shows, TV Comedies, TV Dramas</td>\n",
       "      <td>Suddenly a widow, a woman rekindles her thirst...</td>\n",
       "    </tr>\n",
       "    <tr>\n",
       "      <th>6606</th>\n",
       "      <td>s6607</td>\n",
       "      <td>Movie</td>\n",
       "      <td>The Lives of Others</td>\n",
       "      <td>Ulrich Mühe, Martina Gedeck, Sebastian Koch, U...</td>\n",
       "      <td>Germany</td>\n",
       "      <td>2019-03-15</td>\n",
       "      <td>2006</td>\n",
       "      <td>R</td>\n",
       "      <td>138 min</td>\n",
       "      <td>Dramas, International Movies, Thrillers</td>\n",
       "      <td>As a secret police agent eavesdrops on a succe...</td>\n",
       "    </tr>\n",
       "    <tr>\n",
       "      <th>6756</th>\n",
       "      <td>s6757</td>\n",
       "      <td>Movie</td>\n",
       "      <td>The Physician</td>\n",
       "      <td>Tom Payne, Ben Kingsley, Stellan Skarsgård, Ol...</td>\n",
       "      <td>Germany</td>\n",
       "      <td>2015-07-15</td>\n",
       "      <td>2013</td>\n",
       "      <td>R</td>\n",
       "      <td>155 min</td>\n",
       "      <td>Action &amp; Adventure, Dramas, International Movies</td>\n",
       "      <td>A medical apprentice in 11th-century Persia di...</td>\n",
       "    </tr>\n",
       "    <tr>\n",
       "      <th>7355</th>\n",
       "      <td>s7356</td>\n",
       "      <td>TV Show</td>\n",
       "      <td>Unorthodox</td>\n",
       "      <td>Shira Haas, Amit Rahav, Jeff Wilbusch, Alex Re...</td>\n",
       "      <td>Germany</td>\n",
       "      <td>2020-03-26</td>\n",
       "      <td>2020</td>\n",
       "      <td>TV-MA</td>\n",
       "      <td>1 Season</td>\n",
       "      <td>International TV Shows, TV Dramas</td>\n",
       "      <td>A Hasidic Jewish woman in Brooklyn flees to Be...</td>\n",
       "    </tr>\n",
       "    <tr>\n",
       "      <th>7500</th>\n",
       "      <td>s7501</td>\n",
       "      <td>TV Show</td>\n",
       "      <td>We Are the Wave</td>\n",
       "      <td>Ludwig Simon, Luise Befort, Michelle Barthel, ...</td>\n",
       "      <td>Germany</td>\n",
       "      <td>2019-11-01</td>\n",
       "      <td>2019</td>\n",
       "      <td>TV-MA</td>\n",
       "      <td>1 Season</td>\n",
       "      <td>International TV Shows, TV Dramas, TV Mysteries</td>\n",
       "      <td>A mysterious classmate leads four idealistic t...</td>\n",
       "    </tr>\n",
       "    <tr>\n",
       "      <th>7501</th>\n",
       "      <td>s7502</td>\n",
       "      <td>Movie</td>\n",
       "      <td>We Are Young. We Are Strong.</td>\n",
       "      <td>Jonas Nay, Trang Le Hong, Devid Striesow, Joel...</td>\n",
       "      <td>Germany</td>\n",
       "      <td>2017-01-15</td>\n",
       "      <td>2014</td>\n",
       "      <td>TV-MA</td>\n",
       "      <td>123 min</td>\n",
       "      <td>Dramas, International Movies</td>\n",
       "      <td>In 1992, three radically different residents o...</td>\n",
       "    </tr>\n",
       "  </tbody>\n",
       "</table>\n",
       "</div>"
      ],
      "text/plain": [
       "     show_id     type                                    title  \\\n",
       "102     s103    Movie                      3 Türken & ein Baby   \n",
       "185     s186    Movie                            A Heavy Heart   \n",
       "424     s425    Movie                            Alles ist gut   \n",
       "672     s673  TV Show                           Babylon Berlin   \n",
       "731     s732  TV Show                               Barbarians   \n",
       "838     s839    Movie                           Berlin Calling   \n",
       "841     s842    Movie         Berlin, Berlin: Lolle on the Run   \n",
       "894     s895    Movie                              Bibi & Tina   \n",
       "895     s896    Movie                           Bibi & Tina II   \n",
       "896     s897    Movie           Bibi & Tina: Girls Versus Boys   \n",
       "897     s898    Movie            Bibi & Tina: Tohuwabohu Total   \n",
       "931     s932  TV Show                               Biohackers   \n",
       "1277   s1278  TV Show                                  Charité   \n",
       "1363   s1364    Movie                      Christmas Crossfire   \n",
       "1539   s1540  TV Show                        Criminal: Germany   \n",
       "1592   s1593    Movie                          Dancing Quietly   \n",
       "1753   s1754    Movie              Dieter Nuhr: Nuhr in Berlin   \n",
       "1797   s1798  TV Show                           Dogs of Berlin   \n",
       "2007   s2008    Movie                  Enissa Amani: Ehrenwort   \n",
       "2066   s2067    Movie                     Expedition Happiness   \n",
       "2103   s2104    Movie                                 Familiye   \n",
       "2145   s2146    Movie                     Felix Lobrecht: Hype   \n",
       "2261   s2262  TV Show    Frank Elstner: Just One Last Question   \n",
       "2267   s2268    Movie                Freaks – You're One of Us   \n",
       "2287   s2288    Movie                           Friend Request   \n",
       "2664   s2665    Movie                  Hazel Brugger: Tropical   \n",
       "2774   s2775  TV Show                          Holiday Secrets   \n",
       "2849   s2850  TV Show          How to Sell Drugs Online (Fast)   \n",
       "3067   s3068    Movie                               Isi & Ossi   \n",
       "3372   s3373    Movie                        Kidnapping Stella   \n",
       "3546   s3547    Movie           Latte and the Magic Waterstone   \n",
       "3708   s3709    Movie                                 Lommbock   \n",
       "3718   s3719    Movie                          Look Who's Back   \n",
       "4319   s4320    Movie                                My Fuhrer   \n",
       "4388   s4389  TV Show                       Nailed It! Germany   \n",
       "4546   s4547  TV Show                     NSU German History X   \n",
       "4580   s4581    Movie  Offline - Das leben ist kein bonuslevel   \n",
       "4711   s4712  TV Show                           Over Christmas   \n",
       "4808   s4809    Movie                          Pedal the World   \n",
       "4829   s4830  TV Show                                  Perfume   \n",
       "4840   s4841    Movie                  Pettersson and Findus 2   \n",
       "5206   s5207    Movie                     Right Here Right Now   \n",
       "5220   s5221    Movie                              Rising High   \n",
       "5241   s5242    Movie                            Rock My Heart   \n",
       "5434   s5435    Movie                         Schubert In Love   \n",
       "5622   s5623  TV Show                         Sing On! Germany   \n",
       "5658   s5659  TV Show                                 Skylines   \n",
       "5813   s5814    Movie                                   Stereo   \n",
       "5952   s5953    Movie                           System Crasher   \n",
       "6573   s6574  TV Show                            The Last Word   \n",
       "6606   s6607    Movie                      The Lives of Others   \n",
       "6756   s6757    Movie                            The Physician   \n",
       "7355   s7356  TV Show                               Unorthodox   \n",
       "7500   s7501  TV Show                          We Are the Wave   \n",
       "7501   s7502    Movie             We Are Young. We Are Strong.   \n",
       "\n",
       "                                                   cast  country date_added  \\\n",
       "102   Kostja Ullmann, Eko Fresh, Kida Khodr Ramadan,...  Germany 2016-12-15   \n",
       "185   Peter Kurth, Lena Lauzemis, Lina Wendel, Edin ...  Germany 2017-02-15   \n",
       "424   Aenne Schwarz, Andreas Döhler, Hans Löw, Tilo ...  Germany 2019-06-06   \n",
       "672   Volker Bruch, Liv Lisa Fries, Peter Kurth, Leo...  Germany 2020-03-01   \n",
       "731   Laurence Rupp, Jeanne Goursaud, David Schütter...  Germany 2020-10-23   \n",
       "838   Paul Kalkbrenner, Rita Lengyel, Corinna Harfou...  Germany 2017-01-15   \n",
       "841   Felicitas Woll, Janina Uhse, Jan Sosniok, Matt...  Germany 2020-08-07   \n",
       "894   Lina Larissa Strahl, Lisa-Marie Koroll, Louis ...  Germany 2017-04-15   \n",
       "895   Lina Larissa Strahl, Lisa-Marie Koroll, Louis ...  Germany 2017-04-15   \n",
       "896   Lina Larissa Strahl, Lisa-Marie Koroll, Tilman...  Germany 2017-04-15   \n",
       "897   Lina Larissa Strahl, Lisa-Marie Koroll, Louis ...  Germany 2017-12-27   \n",
       "931   Luna Wedler, Jessica Schwarz, Adrian Julius Ti...  Germany 2020-08-20   \n",
       "1277  Alicia von Rittberg, Maximilian Meyer-Bretschn...  Germany 2018-04-19   \n",
       "1363  Kostja Ullmann, Alli Neumann, Sascha Alexander...  Germany 2020-12-04   \n",
       "1539  Eva Meckbach, Sylvester Groth, Florence Kasumb...  Germany 2019-09-20   \n",
       "1592  Martina Schöne-Radunski, Hans-Heinrich Hardt, ...  Germany 2017-04-01   \n",
       "1753                                        Dieter Nuhr  Germany 2016-11-15   \n",
       "1797  Felix Kramer, Fahri Yardim, Anna Maria Mühe, K...  Germany 2018-12-07   \n",
       "2007                                       Enissa Amani  Germany 2018-04-26   \n",
       "2066                         Selima Taibi, Felix Starck  Germany 2018-01-31   \n",
       "2103  Kubilay Sarikaya, Arnel Taci, Muhammed Kirtan,...  Germany 2019-05-01   \n",
       "2145                                     Felix Lobrecht  Germany 2020-11-03   \n",
       "2261  Klaas Heufer-Umlauf, Joko Winterscheidt, Lena ...  Germany 2020-06-12   \n",
       "2267  Cornelia Gröschel, Tim Oliver Schultz, Wotan W...  Germany 2020-09-02   \n",
       "2287  Alycia Debnam-Carey, William Moseley, Connor P...  Germany 2018-04-18   \n",
       "2664                                      Hazel Brugger  Germany 2020-12-02   \n",
       "2774  Corinna Harfouch, Christiane Paul, Svenja Jung...  Germany 2019-11-20   \n",
       "2849  Maximilian Mundt, Danilo Kamperidis, Lena Klen...  Germany 2020-07-21   \n",
       "3067  Lisa Vicari, Dennis Mojen, Walid Al-Atiyat, Ch...  Germany 2020-02-14   \n",
       "3372   Max von der Groeben, Jella Haase, Clemens Schick  Germany 2019-07-12   \n",
       "3546                  Ashley Bornancin, Carter Hastings  Germany 2020-07-31   \n",
       "3708  Lucas Gregorowicz, Moritz Bleibtreu, Louis Hof...  Germany 2018-11-09   \n",
       "3718  Oliver Masucci, Fabian Busch, Christoph Maria ...  Germany 2016-04-09   \n",
       "4319  Helge Schneider, Ulrich Mühe, Sylvester Groth,...  Germany 2018-05-07   \n",
       "4388                     Angelina Kirsch, Bernd Siefert  Germany 2020-01-17   \n",
       "4546  Anna Maria Mühe, Albrecht Schuch, Sebastian Ur...  Germany 2016-07-07   \n",
       "4580  Moritz Jahn, Mala Emde, Ugur Ekeroglu, David S...  Germany 2017-09-01   \n",
       "4711  Luke Mockridge, Seyneb Saleh, Cristina do Rego...  Germany 2020-11-27   \n",
       "4808                                       Felix Starck  Germany 2018-06-01   \n",
       "4829  Friederike Becht, August Diehl, Wotan Wilke Mö...  Germany 2018-12-21   \n",
       "4840  Stefan Kurt, Marianne Sägebrecht, Max Herbrechter  Germany 2017-11-01   \n",
       "5206  Niklas Bruhn, David Schütter, Tinka Furst, Cor...  Germany 2019-06-16   \n",
       "5220  David Kross, Frederick Lau, Janina Uhse, Anne ...  Germany 2020-04-17   \n",
       "5241  Lena Klenke, Dieter Hallervorden, Emilio Sakra...  Germany 2019-06-07   \n",
       "5434  Olaf Schubert, Mario Adorf, Marie Leuenberger,...  Germany 2018-03-01   \n",
       "5622                                    Palina Rojinski  Germany 2020-08-07   \n",
       "5658  Edin Hasanovic, Peri Baumeister, Murathan Musl...  Germany 2019-09-27   \n",
       "5813  Jürgen Vogel, Moritz Bleibtreu, Petra Schmidt-...  Germany 2017-01-15   \n",
       "5952  Helena Zengel, Albrecht Schuch, Gabriela Maria...  Germany 2020-02-21   \n",
       "6573  Anke Engelke, Thorsten Merten, Nina Gummich, J...  Germany 2020-09-17   \n",
       "6606  Ulrich Mühe, Martina Gedeck, Sebastian Koch, U...  Germany 2019-03-15   \n",
       "6756  Tom Payne, Ben Kingsley, Stellan Skarsgård, Ol...  Germany 2015-07-15   \n",
       "7355  Shira Haas, Amit Rahav, Jeff Wilbusch, Alex Re...  Germany 2020-03-26   \n",
       "7500  Ludwig Simon, Luise Befort, Michelle Barthel, ...  Germany 2019-11-01   \n",
       "7501  Jonas Nay, Trang Le Hong, Devid Striesow, Joel...  Germany 2017-01-15   \n",
       "\n",
       "      release_year rating   duration  \\\n",
       "102           2015  TV-MA     93 min   \n",
       "185           2015  TV-MA    109 min   \n",
       "424           2019  TV-MA     90 min   \n",
       "672           2020  TV-MA  3 Seasons   \n",
       "731           2020  TV-MA   1 Season   \n",
       "838           2008  TV-MA    105 min   \n",
       "841           2020  TV-MA     82 min   \n",
       "894           2014  TV-PG     97 min   \n",
       "895           2014  TV-14    105 min   \n",
       "896           2016  TV-14    107 min   \n",
       "897           2017  TV-14    106 min   \n",
       "931           2020  TV-MA   1 Season   \n",
       "1277          2017  TV-MA   1 Season   \n",
       "1363          2020  TV-MA    106 min   \n",
       "1539          2019  TV-MA   1 Season   \n",
       "1592          2016  TV-MA     70 min   \n",
       "1753          2016  TV-MA     69 min   \n",
       "1797          2018  TV-MA   1 Season   \n",
       "2007          2018  TV-MA     66 min   \n",
       "2066          2017  TV-PG     96 min   \n",
       "2103          2017  TV-MA     99 min   \n",
       "2145          2020  TV-MA     60 min   \n",
       "2261          2020  TV-MA   1 Season   \n",
       "2267          2020  TV-MA     93 min   \n",
       "2287          2016      R     92 min   \n",
       "2664          2020  TV-MA     58 min   \n",
       "2774          2019  TV-MA   1 Season   \n",
       "2849          2020  TV-MA  2 Seasons   \n",
       "3067          2020  TV-MA    113 min   \n",
       "3372          2019  TV-MA     90 min   \n",
       "3546          2020   TV-Y     83 min   \n",
       "3708          2017  TV-MA    106 min   \n",
       "3718          2015     NR    116 min   \n",
       "4319          2007  TV-14     91 min   \n",
       "4388          2020  TV-14   1 Season   \n",
       "4546          2016  TV-MA   1 Season   \n",
       "4580          2016  TV-MA     89 min   \n",
       "4711          2020  TV-MA   1 Season   \n",
       "4808          2015  TV-MA     85 min   \n",
       "4829          2018  TV-MA   1 Season   \n",
       "4840          2016   TV-G     82 min   \n",
       "5206          2018  TV-MA     91 min   \n",
       "5220          2020  TV-MA     95 min   \n",
       "5241          2019  TV-PG    110 min   \n",
       "5434          2016  TV-14     94 min   \n",
       "5622          2020  TV-PG   1 Season   \n",
       "5658          2019  TV-MA   1 Season   \n",
       "5813          2014  TV-MA     91 min   \n",
       "5952          2020  TV-MA    120 min   \n",
       "6573          2020  TV-MA   1 Season   \n",
       "6606          2006      R    138 min   \n",
       "6756          2013      R    155 min   \n",
       "7355          2020  TV-MA   1 Season   \n",
       "7500          2019  TV-MA   1 Season   \n",
       "7501          2014  TV-MA    123 min   \n",
       "\n",
       "                                              listed_in  \\\n",
       "102                      Comedies, International Movies   \n",
       "185    Dramas, Independent Movies, International Movies   \n",
       "424                        Dramas, International Movies   \n",
       "672   Crime TV Shows, International TV Shows, TV Dramas   \n",
       "731   International TV Shows, TV Action & Adventure,...   \n",
       "838      Dramas, International Movies, Music & Musicals   \n",
       "841                      Comedies, International Movies   \n",
       "894          Children & Family Movies, Music & Musicals   \n",
       "895          Children & Family Movies, Music & Musicals   \n",
       "896          Children & Family Movies, Music & Musicals   \n",
       "897          Children & Family Movies, Music & Musicals   \n",
       "931   International TV Shows, TV Dramas, TV Sci-Fi &...   \n",
       "1277                  International TV Shows, TV Dramas   \n",
       "1363          Comedies, International Movies, Thrillers   \n",
       "1539  Crime TV Shows, International TV Shows, TV Dramas   \n",
       "1592   Dramas, Independent Movies, International Movies   \n",
       "1753                                    Stand-Up Comedy   \n",
       "1797  Crime TV Shows, International TV Shows, TV Dramas   \n",
       "2007                                    Stand-Up Comedy   \n",
       "2066                Documentaries, International Movies   \n",
       "2103   Dramas, Independent Movies, International Movies   \n",
       "2145                                    Stand-Up Comedy   \n",
       "2261  International TV Shows, Stand-Up Comedy & Talk...   \n",
       "2267   Dramas, Independent Movies, International Movies   \n",
       "2287                Horror Movies, International Movies   \n",
       "2664                                    Stand-Up Comedy   \n",
       "2774                  International TV Shows, TV Dramas   \n",
       "2849  Crime TV Shows, International TV Shows, TV Com...   \n",
       "3067    Comedies, International Movies, Romantic Movies   \n",
       "3372            Dramas, International Movies, Thrillers   \n",
       "3546                 Children & Family Movies, Comedies   \n",
       "3708                     Comedies, International Movies   \n",
       "3718                     Comedies, International Movies   \n",
       "4319                     Comedies, International Movies   \n",
       "4388                 International TV Shows, Reality TV   \n",
       "4546  Crime TV Shows, International TV Shows, TV Dramas   \n",
       "4580  Action & Adventure, Comedies, International Mo...   \n",
       "4711  International TV Shows, Romantic TV Shows, TV ...   \n",
       "4808  Documentaries, International Movies, Sports Mo...   \n",
       "4829  Crime TV Shows, International TV Shows, TV Dramas   \n",
       "4840                 Children & Family Movies, Comedies   \n",
       "5206               Comedies, Dramas, Independent Movies   \n",
       "5220                       Dramas, International Movies   \n",
       "5241  Children & Family Movies, Dramas, Internationa...   \n",
       "5434                     Comedies, International Movies   \n",
       "5622                 International TV Shows, Reality TV   \n",
       "5658  Crime TV Shows, International TV Shows, TV Dramas   \n",
       "5813                    International Movies, Thrillers   \n",
       "5952   Dramas, Independent Movies, International Movies   \n",
       "6573     International TV Shows, TV Comedies, TV Dramas   \n",
       "6606            Dramas, International Movies, Thrillers   \n",
       "6756   Action & Adventure, Dramas, International Movies   \n",
       "7355                  International TV Shows, TV Dramas   \n",
       "7500    International TV Shows, TV Dramas, TV Mysteries   \n",
       "7501                       Dramas, International Movies   \n",
       "\n",
       "                                            description  \n",
       "102   The lives of three dissatisfied brothers runni...  \n",
       "185   Long past his heyday, a still-virile boxer tri...  \n",
       "424   A woman sexually assaulted by her new boss's b...  \n",
       "672   A Soviet freight train's hijacking leads a hau...  \n",
       "731   Torn between the mighty empire that raised him...  \n",
       "838   DJ Ickarus is at the top of his game, dazzling...  \n",
       "841   In this cinematic sequel to the hit TV series,...  \n",
       "894   Teen witch Bibi and horse-loving Tina face tro...  \n",
       "895   When robbers hit Falkenstein castle, teen witc...  \n",
       "896   At summer camp, young Bibi and her friends are...  \n",
       "897   Teen witch Bibi and her pal Tina return to the...  \n",
       "931   A medical student enters a top German universi...  \n",
       "1277  At Berlin's Charité hospital in 1888, Ida find...  \n",
       "1363  A man foils an attempted murder, then flees th...  \n",
       "1539  In the interview room, detectives go head-to-h...  \n",
       "1592  After years of battling a deep depression, a y...  \n",
       "1753  The cerebral and popular German cabaret comic ...  \n",
       "1797  Two cops investigate the murder of a famous Tu...  \n",
       "2007  Live from Hamburg, Iranian-German comedian Eni...  \n",
       "2066  A filmmaker and his musician girlfriend attemp...  \n",
       "2103  An ex-con struggles to take care of his two br...  \n",
       "2145  Felix Lobrecht aims his dark humor at overly p...  \n",
       "2261  In his farewell show, legendary German host Fr...  \n",
       "2267  Tipped by a mysterious tramp, a meek fry cook ...  \n",
       "2287  A popular college student's love of social med...  \n",
       "2664  In this stand-up special, comedian Hazel Brugg...  \n",
       "2774  A Christmas reunion becomes a gateway to the p...  \n",
       "2849  To win back his ex-girlfriend, a nerdy teen st...  \n",
       "3067  A billionaire's daughter fakes a relationship ...  \n",
       "3372  Snatched off the street and held for ransom, a...  \n",
       "3546  When a greedy bear steals a magic stone to kee...  \n",
       "3708  After finding love in drug-free Dubai, Stefan ...  \n",
       "3718  When Adolf Hitler reawakens at the site of his...  \n",
       "4319  Germany's most celebrated actor is commissione...  \n",
       "4388  Home cooks try – and inevitably fail – to re-c...  \n",
       "4546  After German reunification, the neo-Nazi Natio...  \n",
       "4580  Competitive gamer Jan finds his life thrown fo...  \n",
       "4711  Down-and-out musician Bastian battles the blue...  \n",
       "4808  Over the course of one memorable and adventure...  \n",
       "4829  When a singer is found murdered, with her scen...  \n",
       "4840  Christmas is just around the corner, but Pette...  \n",
       "5206  The owner of a failing music club throws one l...  \n",
       "5220  Ready to do anything to get rich, a young man ...  \n",
       "5241  After an adventurous teen with a heart defect ...  \n",
       "5434  The last of his family line, Olaf Schubert doe...  \n",
       "5622  In this karaoke competition hosted by Palina R...  \n",
       "5658  A hip-hop producer gets hurled into the violen...  \n",
       "5813  Erik's peaceful rural family life is shaken by...  \n",
       "5952  Traumatized, violent and yearning for love, 9-...  \n",
       "6573  Suddenly a widow, a woman rekindles her thirst...  \n",
       "6606  As a secret police agent eavesdrops on a succe...  \n",
       "6756  A medical apprentice in 11th-century Persia di...  \n",
       "7355  A Hasidic Jewish woman in Brooklyn flees to Be...  \n",
       "7500  A mysterious classmate leads four idealistic t...  \n",
       "7501  In 1992, three radically different residents o...  "
      ]
     },
     "execution_count": 61,
     "metadata": {},
     "output_type": "execute_result"
    }
   ],
   "source": [
    "netflix_clean.loc[netflix_clean.country == \"Germany\"]"
   ]
  },
  {
   "cell_type": "code",
   "execution_count": null,
   "id": "loved-valuable",
   "metadata": {},
   "outputs": [],
   "source": []
  }
 ],
 "metadata": {
  "kernelspec": {
   "display_name": "Python 3",
   "language": "python",
   "name": "python3"
  },
  "language_info": {
   "codemirror_mode": {
    "name": "ipython",
    "version": 3
   },
   "file_extension": ".py",
   "mimetype": "text/x-python",
   "name": "python",
   "nbconvert_exporter": "python",
   "pygments_lexer": "ipython3",
   "version": "3.7.3"
  }
 },
 "nbformat": 4,
 "nbformat_minor": 5
}
